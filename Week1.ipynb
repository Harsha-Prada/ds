{
 "cells": [
  {
   "cell_type": "code",
   "execution_count": 2,
   "metadata": {},
   "outputs": [
    {
     "name": "stdout",
     "output_type": "stream",
     "text": [
      "Requirement already satisfied: pandas in c:\\users\\admin\\appdata\\local\\programs\\python\\python313\\lib\\site-packages (2.2.3)\n",
      "Requirement already satisfied: numpy>=1.26.0 in c:\\users\\admin\\appdata\\local\\programs\\python\\python313\\lib\\site-packages (from pandas) (2.2.3)\n",
      "Requirement already satisfied: python-dateutil>=2.8.2 in c:\\users\\admin\\appdata\\roaming\\python\\python313\\site-packages (from pandas) (2.9.0.post0)\n",
      "Requirement already satisfied: pytz>=2020.1 in c:\\users\\admin\\appdata\\local\\programs\\python\\python313\\lib\\site-packages (from pandas) (2025.1)\n",
      "Requirement already satisfied: tzdata>=2022.7 in c:\\users\\admin\\appdata\\local\\programs\\python\\python313\\lib\\site-packages (from pandas) (2025.1)\n",
      "Requirement already satisfied: six>=1.5 in c:\\users\\admin\\appdata\\roaming\\python\\python313\\site-packages (from python-dateutil>=2.8.2->pandas) (1.17.0)\n",
      "Note: you may need to restart the kernel to use updated packages.\n"
     ]
    },
    {
     "name": "stderr",
     "output_type": "stream",
     "text": [
      "\n",
      "[notice] A new release of pip is available: 24.3.1 -> 25.0.1\n",
      "[notice] To update, run: python.exe -m pip install --upgrade pip\n"
     ]
    }
   ],
   "source": [
    "pip install pandas "
   ]
  },
  {
   "cell_type": "code",
   "execution_count": 2,
   "metadata": {},
   "outputs": [],
   "source": [
    "import pandas as pd\n",
    "import os"
   ]
  },
  {
   "cell_type": "code",
   "execution_count": 9,
   "metadata": {},
   "outputs": [
    {
     "name": "stdout",
     "output_type": "stream",
     "text": [
      "Requirement already satisfied: matplotlib in c:\\users\\admin\\appdata\\local\\programs\\python\\python313\\lib\\site-packages (3.10.0)\n",
      "Requirement already satisfied: contourpy>=1.0.1 in c:\\users\\admin\\appdata\\local\\programs\\python\\python313\\lib\\site-packages (from matplotlib) (1.3.1)\n",
      "Requirement already satisfied: cycler>=0.10 in c:\\users\\admin\\appdata\\local\\programs\\python\\python313\\lib\\site-packages (from matplotlib) (0.12.1)\n",
      "Requirement already satisfied: fonttools>=4.22.0 in c:\\users\\admin\\appdata\\local\\programs\\python\\python313\\lib\\site-packages (from matplotlib) (4.56.0)\n",
      "Requirement already satisfied: kiwisolver>=1.3.1 in c:\\users\\admin\\appdata\\local\\programs\\python\\python313\\lib\\site-packages (from matplotlib) (1.4.8)\n",
      "Requirement already satisfied: numpy>=1.23 in c:\\users\\admin\\appdata\\local\\programs\\python\\python313\\lib\\site-packages (from matplotlib) (2.2.3)\n",
      "Requirement already satisfied: packaging>=20.0 in c:\\users\\admin\\appdata\\roaming\\python\\python313\\site-packages (from matplotlib) (24.2)\n",
      "Requirement already satisfied: pillow>=8 in c:\\users\\admin\\appdata\\local\\programs\\python\\python313\\lib\\site-packages (from matplotlib) (11.1.0)\n",
      "Requirement already satisfied: pyparsing>=2.3.1 in c:\\users\\admin\\appdata\\local\\programs\\python\\python313\\lib\\site-packages (from matplotlib) (3.2.1)\n",
      "Requirement already satisfied: python-dateutil>=2.7 in c:\\users\\admin\\appdata\\roaming\\python\\python313\\site-packages (from matplotlib) (2.9.0.post0)\n",
      "Requirement already satisfied: six>=1.5 in c:\\users\\admin\\appdata\\roaming\\python\\python313\\site-packages (from python-dateutil>=2.7->matplotlib) (1.17.0)\n",
      "Note: you may need to restart the kernel to use updated packages.\n"
     ]
    },
    {
     "name": "stderr",
     "output_type": "stream",
     "text": [
      "\n",
      "[notice] A new release of pip is available: 24.3.1 -> 25.0.1\n",
      "[notice] To update, run: python.exe -m pip install --upgrade pip\n"
     ]
    }
   ],
   "source": [
    "pip install matplotlib"
   ]
  },
  {
   "cell_type": "code",
   "execution_count": 11,
   "metadata": {},
   "outputs": [],
   "source": [
    "from matplotlib import pyplot as plt\n",
    "import numpy as np\n"
   ]
  },
  {
   "cell_type": "code",
   "execution_count": 12,
   "metadata": {},
   "outputs": [
    {
     "name": "stdout",
     "output_type": "stream",
     "text": [
      "Collecting plotlyNote: you may need to restart the kernel to use updated packages.\n",
      "\n",
      "  Downloading plotly-6.0.0-py3-none-any.whl.metadata (5.6 kB)\n",
      "Collecting narwhals>=1.15.1 (from plotly)\n",
      "  Downloading narwhals-1.27.1-py3-none-any.whl.metadata (10 kB)\n",
      "Requirement already satisfied: packaging in c:\\users\\admin\\appdata\\roaming\\python\\python313\\site-packages (from plotly) (24.2)\n",
      "Downloading plotly-6.0.0-py3-none-any.whl (14.8 MB)\n",
      "   ---------------------------------------- 0.0/14.8 MB ? eta -:--:--\n",
      "   ---------------------------------------- 0.0/14.8 MB ? eta -:--:--\n",
      "    --------------------------------------- 0.3/14.8 MB ? eta -:--:--\n",
      "    --------------------------------------- 0.3/14.8 MB ? eta -:--:--\n",
      "   - -------------------------------------- 0.5/14.8 MB 488.2 kB/s eta 0:00:30\n",
      "   -- ------------------------------------- 0.8/14.8 MB 678.6 kB/s eta 0:00:21\n",
      "   -- ------------------------------------- 0.8/14.8 MB 678.6 kB/s eta 0:00:21\n",
      "   -- ------------------------------------- 1.0/14.8 MB 689.9 kB/s eta 0:00:20\n",
      "   --- ------------------------------------ 1.3/14.8 MB 706.6 kB/s eta 0:00:20\n",
      "   --- ------------------------------------ 1.3/14.8 MB 706.6 kB/s eta 0:00:20\n",
      "   --- ------------------------------------ 1.3/14.8 MB 706.6 kB/s eta 0:00:20\n",
      "   ---- ----------------------------------- 1.6/14.8 MB 652.0 kB/s eta 0:00:21\n",
      "   ---- ----------------------------------- 1.6/14.8 MB 652.0 kB/s eta 0:00:21\n",
      "   ---- ----------------------------------- 1.6/14.8 MB 652.0 kB/s eta 0:00:21\n",
      "   ---- ----------------------------------- 1.8/14.8 MB 580.9 kB/s eta 0:00:23\n",
      "   ---- ----------------------------------- 1.8/14.8 MB 580.9 kB/s eta 0:00:23\n",
      "   ----- ---------------------------------- 2.1/14.8 MB 601.5 kB/s eta 0:00:22\n",
      "   ----- ---------------------------------- 2.1/14.8 MB 601.5 kB/s eta 0:00:22\n",
      "   ------ --------------------------------- 2.4/14.8 MB 599.4 kB/s eta 0:00:21\n",
      "   ------ --------------------------------- 2.4/14.8 MB 599.4 kB/s eta 0:00:21\n",
      "   ------ --------------------------------- 2.4/14.8 MB 599.4 kB/s eta 0:00:21\n",
      "   ------ --------------------------------- 2.4/14.8 MB 599.4 kB/s eta 0:00:21\n",
      "   ------ --------------------------------- 2.4/14.8 MB 599.4 kB/s eta 0:00:21\n",
      "   ------ --------------------------------- 2.4/14.8 MB 599.4 kB/s eta 0:00:21\n",
      "   ------- -------------------------------- 2.6/14.8 MB 487.5 kB/s eta 0:00:25\n",
      "   ------- -------------------------------- 2.6/14.8 MB 487.5 kB/s eta 0:00:25\n",
      "   ------- -------------------------------- 2.6/14.8 MB 487.5 kB/s eta 0:00:25\n",
      "   ------- -------------------------------- 2.9/14.8 MB 467.4 kB/s eta 0:00:26\n",
      "   ------- -------------------------------- 2.9/14.8 MB 467.4 kB/s eta 0:00:26\n",
      "   -------- ------------------------------- 3.1/14.8 MB 474.8 kB/s eta 0:00:25\n",
      "   -------- ------------------------------- 3.1/14.8 MB 474.8 kB/s eta 0:00:25\n",
      "   --------- ------------------------------ 3.4/14.8 MB 488.9 kB/s eta 0:00:24\n",
      "   --------- ------------------------------ 3.7/14.8 MB 503.8 kB/s eta 0:00:23\n",
      "   ---------- ----------------------------- 3.9/14.8 MB 520.9 kB/s eta 0:00:21\n",
      "   ----------- ---------------------------- 4.2/14.8 MB 524.3 kB/s eta 0:00:21\n",
      "   ------------ --------------------------- 4.5/14.8 MB 538.6 kB/s eta 0:00:20\n",
      "   ------------ --------------------------- 4.7/14.8 MB 553.1 kB/s eta 0:00:19\n",
      "   ------------- -------------------------- 5.0/14.8 MB 563.1 kB/s eta 0:00:18\n",
      "   ------------- -------------------------- 5.0/14.8 MB 563.1 kB/s eta 0:00:18\n",
      "   -------------- ------------------------- 5.2/14.8 MB 568.4 kB/s eta 0:00:17\n",
      "   -------------- ------------------------- 5.5/14.8 MB 583.7 kB/s eta 0:00:16\n",
      "   --------------- ------------------------ 5.8/14.8 MB 601.6 kB/s eta 0:00:16\n",
      "   ---------------- ----------------------- 6.0/14.8 MB 613.8 kB/s eta 0:00:15\n",
      "   ---------------- ----------------------- 6.3/14.8 MB 613.3 kB/s eta 0:00:14\n",
      "   ---------------- ----------------------- 6.3/14.8 MB 613.3 kB/s eta 0:00:14\n",
      "   ----------------- ---------------------- 6.6/14.8 MB 615.0 kB/s eta 0:00:14\n",
      "   ----------------- ---------------------- 6.6/14.8 MB 615.0 kB/s eta 0:00:14\n",
      "   ------------------ --------------------- 6.8/14.8 MB 601.4 kB/s eta 0:00:14\n",
      "   ------------------ --------------------- 6.8/14.8 MB 601.4 kB/s eta 0:00:14\n",
      "   ------------------ --------------------- 6.8/14.8 MB 601.4 kB/s eta 0:00:14\n",
      "   ------------------- -------------------- 7.1/14.8 MB 578.4 kB/s eta 0:00:14\n",
      "   ------------------- -------------------- 7.1/14.8 MB 578.4 kB/s eta 0:00:14\n",
      "   ------------------- -------------------- 7.1/14.8 MB 578.4 kB/s eta 0:00:14\n",
      "   ------------------- -------------------- 7.1/14.8 MB 578.4 kB/s eta 0:00:14\n",
      "   ------------------- -------------------- 7.3/14.8 MB 560.4 kB/s eta 0:00:14\n",
      "   -------------------- ------------------- 7.6/14.8 MB 567.7 kB/s eta 0:00:13\n",
      "   -------------------- ------------------- 7.6/14.8 MB 567.7 kB/s eta 0:00:13\n",
      "   --------------------- ------------------ 7.9/14.8 MB 572.2 kB/s eta 0:00:13\n",
      "   --------------------- ------------------ 8.1/14.8 MB 578.2 kB/s eta 0:00:12\n",
      "   --------------------- ------------------ 8.1/14.8 MB 578.2 kB/s eta 0:00:12\n",
      "   ---------------------- ----------------- 8.4/14.8 MB 581.6 kB/s eta 0:00:12\n",
      "   ----------------------- ---------------- 8.7/14.8 MB 585.4 kB/s eta 0:00:11\n",
      "   ----------------------- ---------------- 8.7/14.8 MB 585.4 kB/s eta 0:00:11\n",
      "   ----------------------- ---------------- 8.7/14.8 MB 585.4 kB/s eta 0:00:11\n",
      "   ----------------------- ---------------- 8.7/14.8 MB 585.4 kB/s eta 0:00:11\n",
      "   ----------------------- ---------------- 8.7/14.8 MB 585.4 kB/s eta 0:00:11\n",
      "   ----------------------- ---------------- 8.7/14.8 MB 585.4 kB/s eta 0:00:11\n",
      "   ----------------------- ---------------- 8.7/14.8 MB 585.4 kB/s eta 0:00:11\n",
      "   ----------------------- ---------------- 8.7/14.8 MB 585.4 kB/s eta 0:00:11\n",
      "   ----------------------- ---------------- 8.7/14.8 MB 585.4 kB/s eta 0:00:11\n",
      "   ----------------------- ---------------- 8.7/14.8 MB 585.4 kB/s eta 0:00:11\n",
      "   ----------------------- ---------------- 8.7/14.8 MB 585.4 kB/s eta 0:00:11\n",
      "   ----------------------- ---------------- 8.7/14.8 MB 585.4 kB/s eta 0:00:11\n",
      "   ----------------------- ---------------- 8.7/14.8 MB 585.4 kB/s eta 0:00:11\n",
      "   ----------------------- ---------------- 8.7/14.8 MB 585.4 kB/s eta 0:00:11\n",
      "   ----------------------- ---------------- 8.7/14.8 MB 585.4 kB/s eta 0:00:11\n",
      "   ----------------------- ---------------- 8.7/14.8 MB 585.4 kB/s eta 0:00:11\n",
      "   ----------------------- ---------------- 8.7/14.8 MB 585.4 kB/s eta 0:00:11\n",
      "   ----------------------- ---------------- 8.7/14.8 MB 585.4 kB/s eta 0:00:11\n",
      "   ----------------------- ---------------- 8.7/14.8 MB 585.4 kB/s eta 0:00:11\n",
      "   ----------------------- ---------------- 8.7/14.8 MB 585.4 kB/s eta 0:00:11\n",
      "   ----------------------- ---------------- 8.7/14.8 MB 585.4 kB/s eta 0:00:11\n",
      "   ----------------------- ---------------- 8.7/14.8 MB 585.4 kB/s eta 0:00:11\n",
      "   ----------------------- ---------------- 8.7/14.8 MB 585.4 kB/s eta 0:00:11\n",
      "   ------------------------ --------------- 8.9/14.8 MB 400.9 kB/s eta 0:00:15\n",
      "   ------------------------ --------------- 8.9/14.8 MB 400.9 kB/s eta 0:00:15\n",
      "   ------------------------ --------------- 9.2/14.8 MB 404.6 kB/s eta 0:00:14\n",
      "   ------------------------ --------------- 9.2/14.8 MB 404.6 kB/s eta 0:00:14\n",
      "   ------------------------- -------------- 9.4/14.8 MB 409.9 kB/s eta 0:00:14\n",
      "   ------------------------- -------------- 9.4/14.8 MB 409.9 kB/s eta 0:00:14\n",
      "   -------------------------- ------------- 10.0/14.8 MB 422.0 kB/s eta 0:00:12\n",
      "   --------------------------- ------------ 10.2/14.8 MB 428.7 kB/s eta 0:00:11\n",
      "   --------------------------- ------------ 10.2/14.8 MB 428.7 kB/s eta 0:00:11\n",
      "   ---------------------------- ----------- 10.5/14.8 MB 434.5 kB/s eta 0:00:10\n",
      "   ----------------------------- ---------- 10.7/14.8 MB 441.5 kB/s eta 0:00:10\n",
      "   ----------------------------- ---------- 10.7/14.8 MB 441.5 kB/s eta 0:00:10\n",
      "   ----------------------------- ---------- 10.7/14.8 MB 441.5 kB/s eta 0:00:10\n",
      "   ----------------------------- ---------- 10.7/14.8 MB 441.5 kB/s eta 0:00:10\n",
      "   ----------------------------- ---------- 10.7/14.8 MB 441.5 kB/s eta 0:00:10\n",
      "   ----------------------------- ---------- 11.0/14.8 MB 431.7 kB/s eta 0:00:09\n",
      "   ----------------------------- ---------- 11.0/14.8 MB 431.7 kB/s eta 0:00:09\n",
      "   ------------------------------ --------- 11.3/14.8 MB 435.5 kB/s eta 0:00:09\n",
      "   ------------------------------- -------- 11.5/14.8 MB 441.7 kB/s eta 0:00:08\n",
      "   ------------------------------- -------- 11.8/14.8 MB 447.8 kB/s eta 0:00:07\n",
      "   -------------------------------- ------- 12.1/14.8 MB 451.3 kB/s eta 0:00:07\n",
      "   -------------------------------- ------- 12.1/14.8 MB 451.3 kB/s eta 0:00:07\n",
      "   -------------------------------- ------- 12.1/14.8 MB 451.3 kB/s eta 0:00:07\n",
      "   --------------------------------- ------ 12.3/14.8 MB 451.2 kB/s eta 0:00:06\n",
      "   --------------------------------- ------ 12.3/14.8 MB 451.2 kB/s eta 0:00:06\n",
      "   --------------------------------- ------ 12.3/14.8 MB 451.2 kB/s eta 0:00:06\n",
      "   ---------------------------------- ----- 12.8/14.8 MB 456.7 kB/s eta 0:00:05\n",
      "   ---------------------------------- ----- 12.8/14.8 MB 456.7 kB/s eta 0:00:05\n",
      "   ---------------------------------- ----- 12.8/14.8 MB 456.7 kB/s eta 0:00:05\n",
      "   ----------------------------------- ---- 13.1/14.8 MB 457.5 kB/s eta 0:00:04\n",
      "   ------------------------------------ --- 13.4/14.8 MB 461.3 kB/s eta 0:00:04\n",
      "   ------------------------------------ --- 13.6/14.8 MB 465.4 kB/s eta 0:00:03\n",
      "   ------------------------------------- -- 13.9/14.8 MB 470.8 kB/s eta 0:00:02\n",
      "   ------------------------------------- -- 13.9/14.8 MB 470.8 kB/s eta 0:00:02\n",
      "   -------------------------------------- - 14.2/14.8 MB 475.3 kB/s eta 0:00:02\n",
      "   -------------------------------------- - 14.2/14.8 MB 475.3 kB/s eta 0:00:02\n",
      "   -------------------------------------- - 14.2/14.8 MB 475.3 kB/s eta 0:00:02\n",
      "   -------------------------------------- - 14.4/14.8 MB 470.8 kB/s eta 0:00:01\n",
      "   -------------------------------------- - 14.4/14.8 MB 470.8 kB/s eta 0:00:01\n",
      "   ---------------------------------------  14.7/14.8 MB 473.6 kB/s eta 0:00:01\n",
      "   ---------------------------------------  14.7/14.8 MB 473.6 kB/s eta 0:00:01\n",
      "   ---------------------------------------  14.7/14.8 MB 473.6 kB/s eta 0:00:01\n",
      "   ---------------------------------------- 14.8/14.8 MB 453.6 kB/s eta 0:00:00\n",
      "Downloading narwhals-1.27.1-py3-none-any.whl (308 kB)\n",
      "Installing collected packages: narwhals, plotly\n",
      "Successfully installed narwhals-1.27.1 plotly-6.0.0\n"
     ]
    },
    {
     "name": "stderr",
     "output_type": "stream",
     "text": [
      "\n",
      "[notice] A new release of pip is available: 24.3.1 -> 25.0.1\n",
      "[notice] To update, run: python.exe -m pip install --upgrade pip\n"
     ]
    }
   ],
   "source": [
    "pip install plotly"
   ]
  },
  {
   "cell_type": "code",
   "execution_count": 3,
   "metadata": {},
   "outputs": [],
   "source": [
    "#importing the dataset\n",
    "df=pd.read_csv(r\"C:\\Users\\ADMIN\\Documents\\train_and_test2.csv\")"
   ]
  },
  {
   "cell_type": "code",
   "execution_count": 4,
   "metadata": {},
   "outputs": [
    {
     "data": {
      "text/html": [
       "<div>\n",
       "<style scoped>\n",
       "    .dataframe tbody tr th:only-of-type {\n",
       "        vertical-align: middle;\n",
       "    }\n",
       "\n",
       "    .dataframe tbody tr th {\n",
       "        vertical-align: top;\n",
       "    }\n",
       "\n",
       "    .dataframe thead th {\n",
       "        text-align: right;\n",
       "    }\n",
       "</style>\n",
       "<table border=\"1\" class=\"dataframe\">\n",
       "  <thead>\n",
       "    <tr style=\"text-align: right;\">\n",
       "      <th></th>\n",
       "      <th>Passengerid</th>\n",
       "      <th>Age</th>\n",
       "      <th>Fare</th>\n",
       "      <th>Sex</th>\n",
       "      <th>sibsp</th>\n",
       "      <th>zero</th>\n",
       "      <th>zero.1</th>\n",
       "      <th>zero.2</th>\n",
       "      <th>zero.3</th>\n",
       "      <th>zero.4</th>\n",
       "      <th>...</th>\n",
       "      <th>zero.12</th>\n",
       "      <th>zero.13</th>\n",
       "      <th>zero.14</th>\n",
       "      <th>Pclass</th>\n",
       "      <th>zero.15</th>\n",
       "      <th>zero.16</th>\n",
       "      <th>Embarked</th>\n",
       "      <th>zero.17</th>\n",
       "      <th>zero.18</th>\n",
       "      <th>2urvived</th>\n",
       "    </tr>\n",
       "  </thead>\n",
       "  <tbody>\n",
       "    <tr>\n",
       "      <th>0</th>\n",
       "      <td>1</td>\n",
       "      <td>22.0</td>\n",
       "      <td>7.2500</td>\n",
       "      <td>0</td>\n",
       "      <td>1</td>\n",
       "      <td>0</td>\n",
       "      <td>0</td>\n",
       "      <td>0</td>\n",
       "      <td>0</td>\n",
       "      <td>0</td>\n",
       "      <td>...</td>\n",
       "      <td>0</td>\n",
       "      <td>0</td>\n",
       "      <td>0</td>\n",
       "      <td>3</td>\n",
       "      <td>0</td>\n",
       "      <td>0</td>\n",
       "      <td>2.0</td>\n",
       "      <td>0</td>\n",
       "      <td>0</td>\n",
       "      <td>0</td>\n",
       "    </tr>\n",
       "    <tr>\n",
       "      <th>1</th>\n",
       "      <td>2</td>\n",
       "      <td>38.0</td>\n",
       "      <td>71.2833</td>\n",
       "      <td>1</td>\n",
       "      <td>1</td>\n",
       "      <td>0</td>\n",
       "      <td>0</td>\n",
       "      <td>0</td>\n",
       "      <td>0</td>\n",
       "      <td>0</td>\n",
       "      <td>...</td>\n",
       "      <td>0</td>\n",
       "      <td>0</td>\n",
       "      <td>0</td>\n",
       "      <td>1</td>\n",
       "      <td>0</td>\n",
       "      <td>0</td>\n",
       "      <td>0.0</td>\n",
       "      <td>0</td>\n",
       "      <td>0</td>\n",
       "      <td>1</td>\n",
       "    </tr>\n",
       "    <tr>\n",
       "      <th>2</th>\n",
       "      <td>3</td>\n",
       "      <td>26.0</td>\n",
       "      <td>7.9250</td>\n",
       "      <td>1</td>\n",
       "      <td>0</td>\n",
       "      <td>0</td>\n",
       "      <td>0</td>\n",
       "      <td>0</td>\n",
       "      <td>0</td>\n",
       "      <td>0</td>\n",
       "      <td>...</td>\n",
       "      <td>0</td>\n",
       "      <td>0</td>\n",
       "      <td>0</td>\n",
       "      <td>3</td>\n",
       "      <td>0</td>\n",
       "      <td>0</td>\n",
       "      <td>2.0</td>\n",
       "      <td>0</td>\n",
       "      <td>0</td>\n",
       "      <td>1</td>\n",
       "    </tr>\n",
       "    <tr>\n",
       "      <th>3</th>\n",
       "      <td>4</td>\n",
       "      <td>35.0</td>\n",
       "      <td>53.1000</td>\n",
       "      <td>1</td>\n",
       "      <td>1</td>\n",
       "      <td>0</td>\n",
       "      <td>0</td>\n",
       "      <td>0</td>\n",
       "      <td>0</td>\n",
       "      <td>0</td>\n",
       "      <td>...</td>\n",
       "      <td>0</td>\n",
       "      <td>0</td>\n",
       "      <td>0</td>\n",
       "      <td>1</td>\n",
       "      <td>0</td>\n",
       "      <td>0</td>\n",
       "      <td>2.0</td>\n",
       "      <td>0</td>\n",
       "      <td>0</td>\n",
       "      <td>1</td>\n",
       "    </tr>\n",
       "    <tr>\n",
       "      <th>4</th>\n",
       "      <td>5</td>\n",
       "      <td>35.0</td>\n",
       "      <td>8.0500</td>\n",
       "      <td>0</td>\n",
       "      <td>0</td>\n",
       "      <td>0</td>\n",
       "      <td>0</td>\n",
       "      <td>0</td>\n",
       "      <td>0</td>\n",
       "      <td>0</td>\n",
       "      <td>...</td>\n",
       "      <td>0</td>\n",
       "      <td>0</td>\n",
       "      <td>0</td>\n",
       "      <td>3</td>\n",
       "      <td>0</td>\n",
       "      <td>0</td>\n",
       "      <td>2.0</td>\n",
       "      <td>0</td>\n",
       "      <td>0</td>\n",
       "      <td>0</td>\n",
       "    </tr>\n",
       "  </tbody>\n",
       "</table>\n",
       "<p>5 rows × 28 columns</p>\n",
       "</div>"
      ],
      "text/plain": [
       "   Passengerid   Age     Fare  Sex  sibsp  zero  zero.1  zero.2  zero.3  \\\n",
       "0            1  22.0   7.2500    0      1     0       0       0       0   \n",
       "1            2  38.0  71.2833    1      1     0       0       0       0   \n",
       "2            3  26.0   7.9250    1      0     0       0       0       0   \n",
       "3            4  35.0  53.1000    1      1     0       0       0       0   \n",
       "4            5  35.0   8.0500    0      0     0       0       0       0   \n",
       "\n",
       "   zero.4  ...  zero.12  zero.13  zero.14  Pclass  zero.15  zero.16  Embarked  \\\n",
       "0       0  ...        0        0        0       3        0        0       2.0   \n",
       "1       0  ...        0        0        0       1        0        0       0.0   \n",
       "2       0  ...        0        0        0       3        0        0       2.0   \n",
       "3       0  ...        0        0        0       1        0        0       2.0   \n",
       "4       0  ...        0        0        0       3        0        0       2.0   \n",
       "\n",
       "   zero.17  zero.18  2urvived  \n",
       "0        0        0         0  \n",
       "1        0        0         1  \n",
       "2        0        0         1  \n",
       "3        0        0         1  \n",
       "4        0        0         0  \n",
       "\n",
       "[5 rows x 28 columns]"
      ]
     },
     "execution_count": 4,
     "metadata": {},
     "output_type": "execute_result"
    }
   ],
   "source": [
    "#displaying few rows\n",
    "df.head()"
   ]
  },
  {
   "cell_type": "code",
   "execution_count": 5,
   "metadata": {},
   "outputs": [
    {
     "data": {
      "text/plain": [
       "Passengerid      int64\n",
       "Age            float64\n",
       "Fare           float64\n",
       "Sex              int64\n",
       "sibsp            int64\n",
       "zero             int64\n",
       "zero.1           int64\n",
       "zero.2           int64\n",
       "zero.3           int64\n",
       "zero.4           int64\n",
       "zero.5           int64\n",
       "zero.6           int64\n",
       "Parch            int64\n",
       "zero.7           int64\n",
       "zero.8           int64\n",
       "zero.9           int64\n",
       "zero.10          int64\n",
       "zero.11          int64\n",
       "zero.12          int64\n",
       "zero.13          int64\n",
       "zero.14          int64\n",
       "Pclass           int64\n",
       "zero.15          int64\n",
       "zero.16          int64\n",
       "Embarked       float64\n",
       "zero.17          int64\n",
       "zero.18          int64\n",
       "2urvived         int64\n",
       "dtype: object"
      ]
     },
     "execution_count": 5,
     "metadata": {},
     "output_type": "execute_result"
    }
   ],
   "source": [
    "#Get a summary of data types and missing values.\n",
    "df.dtypes\n"
   ]
  },
  {
   "cell_type": "code",
   "execution_count": 6,
   "metadata": {},
   "outputs": [
    {
     "data": {
      "text/plain": [
       "Passengerid    0\n",
       "Age            0\n",
       "Fare           0\n",
       "Sex            0\n",
       "sibsp          0\n",
       "zero           0\n",
       "zero.1         0\n",
       "zero.2         0\n",
       "zero.3         0\n",
       "zero.4         0\n",
       "zero.5         0\n",
       "zero.6         0\n",
       "Parch          0\n",
       "zero.7         0\n",
       "zero.8         0\n",
       "zero.9         0\n",
       "zero.10        0\n",
       "zero.11        0\n",
       "zero.12        0\n",
       "zero.13        0\n",
       "zero.14        0\n",
       "Pclass         0\n",
       "zero.15        0\n",
       "zero.16        0\n",
       "Embarked       2\n",
       "zero.17        0\n",
       "zero.18        0\n",
       "2urvived       0\n",
       "dtype: int64"
      ]
     },
     "execution_count": 6,
     "metadata": {},
     "output_type": "execute_result"
    }
   ],
   "source": [
    "df.isnull().sum()"
   ]
  },
  {
   "cell_type": "code",
   "execution_count": 7,
   "metadata": {},
   "outputs": [],
   "source": [
    "#Handle missing values (e.g., Age, Cabin).\n",
    "df['Age']=df['Age'].fillna(df['Age'].mean())"
   ]
  },
  {
   "cell_type": "code",
   "execution_count": 8,
   "metadata": {},
   "outputs": [
    {
     "name": "stderr",
     "output_type": "stream",
     "text": [
      "C:\\Users\\ADMIN\\AppData\\Local\\Temp\\ipykernel_3652\\3789978943.py:1: FutureWarning: Series.fillna with 'method' is deprecated and will raise in a future version. Use obj.ffill() or obj.bfill() instead.\n",
      "  df['Age']=df['Age'].fillna(method='ffill')\n"
     ]
    }
   ],
   "source": [
    "df['Age']=df['Age'].fillna(method='ffill')"
   ]
  },
  {
   "cell_type": "code",
   "execution_count": 9,
   "metadata": {},
   "outputs": [],
   "source": [
    "df['Fare']=df['Fare'].fillna(\"UNAVAILABLE\")"
   ]
  },
  {
   "cell_type": "code",
   "execution_count": null,
   "metadata": {},
   "outputs": [
    {
     "name": "stdout",
     "output_type": "stream",
     "text": [
      "0       0\n",
      "1       1\n",
      "2       1\n",
      "3       1\n",
      "4       0\n",
      "       ..\n",
      "1304    0\n",
      "1305    1\n",
      "1306    0\n",
      "1307    0\n",
      "1308    0\n",
      "Name: Sex, Length: 1309, dtype: int64\n"
     ]
    }
   ],
   "source": [
    "#Convert categorical variables to numerical (e.g., Gender).\n",
    "print(df['Sex'])"
   ]
  },
  {
   "cell_type": "code",
   "execution_count": 12,
   "metadata": {},
   "outputs": [],
   "source": [
    "df['Sex'] = df['Sex'].astype(str).map({'0': 'Male', '1': 'Female'})"
   ]
  },
  {
   "cell_type": "code",
   "execution_count": 13,
   "metadata": {},
   "outputs": [
    {
     "name": "stdout",
     "output_type": "stream",
     "text": [
      "0         Male\n",
      "1       Female\n",
      "2       Female\n",
      "3       Female\n",
      "4         Male\n",
      "         ...  \n",
      "1304      Male\n",
      "1305    Female\n",
      "1306      Male\n",
      "1307      Male\n",
      "1308      Male\n",
      "Name: Sex, Length: 1309, dtype: object\n"
     ]
    }
   ],
   "source": [
    "print(df['Sex'])"
   ]
  },
  {
   "cell_type": "code",
   "execution_count": 14,
   "metadata": {},
   "outputs": [],
   "source": [
    "df['Sex'] = df['Sex'].astype(str).map({'Male': '0', 'Female': '1'})"
   ]
  },
  {
   "cell_type": "code",
   "execution_count": 15,
   "metadata": {},
   "outputs": [
    {
     "name": "stdout",
     "output_type": "stream",
     "text": [
      "0       0\n",
      "1       1\n",
      "2       1\n",
      "3       1\n",
      "4       0\n",
      "       ..\n",
      "1304    0\n",
      "1305    1\n",
      "1306    0\n",
      "1307    0\n",
      "1308    0\n",
      "Name: Sex, Length: 1309, dtype: object\n"
     ]
    }
   ],
   "source": [
    "print(df['Sex'])"
   ]
  },
  {
   "cell_type": "code",
   "execution_count": 24,
   "metadata": {},
   "outputs": [
    {
     "ename": "KeyError",
     "evalue": "\"['sibsp', 'Parch'] not found in axis\"",
     "output_type": "error",
     "traceback": [
      "\u001b[1;31m---------------------------------------------------------------------------\u001b[0m",
      "\u001b[1;31mKeyError\u001b[0m                                  Traceback (most recent call last)",
      "Cell \u001b[1;32mIn[24], line 2\u001b[0m\n\u001b[0;32m      1\u001b[0m \u001b[38;5;66;03m#Drop unnecessary columns (e.g., Ticket, Name).\u001b[39;00m\n\u001b[1;32m----> 2\u001b[0m df \u001b[38;5;241m=\u001b[39m \u001b[43mdf\u001b[49m\u001b[38;5;241;43m.\u001b[39;49m\u001b[43mdrop\u001b[49m\u001b[43m(\u001b[49m\u001b[43m[\u001b[49m\u001b[38;5;124;43m'\u001b[39;49m\u001b[38;5;124;43msibsp\u001b[39;49m\u001b[38;5;124;43m'\u001b[39;49m\u001b[43m,\u001b[49m\u001b[43m \u001b[49m\u001b[38;5;124;43m'\u001b[39;49m\u001b[38;5;124;43mParch\u001b[39;49m\u001b[38;5;124;43m'\u001b[39;49m\u001b[43m]\u001b[49m\u001b[43m,\u001b[49m\u001b[43m \u001b[49m\u001b[43maxis\u001b[49m\u001b[38;5;241;43m=\u001b[39;49m\u001b[38;5;241;43m1\u001b[39;49m\u001b[43m)\u001b[49m\n",
      "File \u001b[1;32mc:\\Users\\ADMIN\\AppData\\Local\\Programs\\Python\\Python313\\Lib\\site-packages\\pandas\\core\\frame.py:5581\u001b[0m, in \u001b[0;36mDataFrame.drop\u001b[1;34m(self, labels, axis, index, columns, level, inplace, errors)\u001b[0m\n\u001b[0;32m   5433\u001b[0m \u001b[38;5;28;01mdef\u001b[39;00m\u001b[38;5;250m \u001b[39m\u001b[38;5;21mdrop\u001b[39m(\n\u001b[0;32m   5434\u001b[0m     \u001b[38;5;28mself\u001b[39m,\n\u001b[0;32m   5435\u001b[0m     labels: IndexLabel \u001b[38;5;241m|\u001b[39m \u001b[38;5;28;01mNone\u001b[39;00m \u001b[38;5;241m=\u001b[39m \u001b[38;5;28;01mNone\u001b[39;00m,\n\u001b[1;32m   (...)\u001b[0m\n\u001b[0;32m   5442\u001b[0m     errors: IgnoreRaise \u001b[38;5;241m=\u001b[39m \u001b[38;5;124m\"\u001b[39m\u001b[38;5;124mraise\u001b[39m\u001b[38;5;124m\"\u001b[39m,\n\u001b[0;32m   5443\u001b[0m ) \u001b[38;5;241m-\u001b[39m\u001b[38;5;241m>\u001b[39m DataFrame \u001b[38;5;241m|\u001b[39m \u001b[38;5;28;01mNone\u001b[39;00m:\n\u001b[0;32m   5444\u001b[0m \u001b[38;5;250m    \u001b[39m\u001b[38;5;124;03m\"\"\"\u001b[39;00m\n\u001b[0;32m   5445\u001b[0m \u001b[38;5;124;03m    Drop specified labels from rows or columns.\u001b[39;00m\n\u001b[0;32m   5446\u001b[0m \n\u001b[1;32m   (...)\u001b[0m\n\u001b[0;32m   5579\u001b[0m \u001b[38;5;124;03m            weight  1.0     0.8\u001b[39;00m\n\u001b[0;32m   5580\u001b[0m \u001b[38;5;124;03m    \"\"\"\u001b[39;00m\n\u001b[1;32m-> 5581\u001b[0m     \u001b[38;5;28;01mreturn\u001b[39;00m \u001b[38;5;28;43msuper\u001b[39;49m\u001b[43m(\u001b[49m\u001b[43m)\u001b[49m\u001b[38;5;241;43m.\u001b[39;49m\u001b[43mdrop\u001b[49m\u001b[43m(\u001b[49m\n\u001b[0;32m   5582\u001b[0m \u001b[43m        \u001b[49m\u001b[43mlabels\u001b[49m\u001b[38;5;241;43m=\u001b[39;49m\u001b[43mlabels\u001b[49m\u001b[43m,\u001b[49m\n\u001b[0;32m   5583\u001b[0m \u001b[43m        \u001b[49m\u001b[43maxis\u001b[49m\u001b[38;5;241;43m=\u001b[39;49m\u001b[43maxis\u001b[49m\u001b[43m,\u001b[49m\n\u001b[0;32m   5584\u001b[0m \u001b[43m        \u001b[49m\u001b[43mindex\u001b[49m\u001b[38;5;241;43m=\u001b[39;49m\u001b[43mindex\u001b[49m\u001b[43m,\u001b[49m\n\u001b[0;32m   5585\u001b[0m \u001b[43m        \u001b[49m\u001b[43mcolumns\u001b[49m\u001b[38;5;241;43m=\u001b[39;49m\u001b[43mcolumns\u001b[49m\u001b[43m,\u001b[49m\n\u001b[0;32m   5586\u001b[0m \u001b[43m        \u001b[49m\u001b[43mlevel\u001b[49m\u001b[38;5;241;43m=\u001b[39;49m\u001b[43mlevel\u001b[49m\u001b[43m,\u001b[49m\n\u001b[0;32m   5587\u001b[0m \u001b[43m        \u001b[49m\u001b[43minplace\u001b[49m\u001b[38;5;241;43m=\u001b[39;49m\u001b[43minplace\u001b[49m\u001b[43m,\u001b[49m\n\u001b[0;32m   5588\u001b[0m \u001b[43m        \u001b[49m\u001b[43merrors\u001b[49m\u001b[38;5;241;43m=\u001b[39;49m\u001b[43merrors\u001b[49m\u001b[43m,\u001b[49m\n\u001b[0;32m   5589\u001b[0m \u001b[43m    \u001b[49m\u001b[43m)\u001b[49m\n",
      "File \u001b[1;32mc:\\Users\\ADMIN\\AppData\\Local\\Programs\\Python\\Python313\\Lib\\site-packages\\pandas\\core\\generic.py:4788\u001b[0m, in \u001b[0;36mNDFrame.drop\u001b[1;34m(self, labels, axis, index, columns, level, inplace, errors)\u001b[0m\n\u001b[0;32m   4786\u001b[0m \u001b[38;5;28;01mfor\u001b[39;00m axis, labels \u001b[38;5;129;01min\u001b[39;00m axes\u001b[38;5;241m.\u001b[39mitems():\n\u001b[0;32m   4787\u001b[0m     \u001b[38;5;28;01mif\u001b[39;00m labels \u001b[38;5;129;01mis\u001b[39;00m \u001b[38;5;129;01mnot\u001b[39;00m \u001b[38;5;28;01mNone\u001b[39;00m:\n\u001b[1;32m-> 4788\u001b[0m         obj \u001b[38;5;241m=\u001b[39m \u001b[43mobj\u001b[49m\u001b[38;5;241;43m.\u001b[39;49m\u001b[43m_drop_axis\u001b[49m\u001b[43m(\u001b[49m\u001b[43mlabels\u001b[49m\u001b[43m,\u001b[49m\u001b[43m \u001b[49m\u001b[43maxis\u001b[49m\u001b[43m,\u001b[49m\u001b[43m \u001b[49m\u001b[43mlevel\u001b[49m\u001b[38;5;241;43m=\u001b[39;49m\u001b[43mlevel\u001b[49m\u001b[43m,\u001b[49m\u001b[43m \u001b[49m\u001b[43merrors\u001b[49m\u001b[38;5;241;43m=\u001b[39;49m\u001b[43merrors\u001b[49m\u001b[43m)\u001b[49m\n\u001b[0;32m   4790\u001b[0m \u001b[38;5;28;01mif\u001b[39;00m inplace:\n\u001b[0;32m   4791\u001b[0m     \u001b[38;5;28mself\u001b[39m\u001b[38;5;241m.\u001b[39m_update_inplace(obj)\n",
      "File \u001b[1;32mc:\\Users\\ADMIN\\AppData\\Local\\Programs\\Python\\Python313\\Lib\\site-packages\\pandas\\core\\generic.py:4830\u001b[0m, in \u001b[0;36mNDFrame._drop_axis\u001b[1;34m(self, labels, axis, level, errors, only_slice)\u001b[0m\n\u001b[0;32m   4828\u001b[0m         new_axis \u001b[38;5;241m=\u001b[39m axis\u001b[38;5;241m.\u001b[39mdrop(labels, level\u001b[38;5;241m=\u001b[39mlevel, errors\u001b[38;5;241m=\u001b[39merrors)\n\u001b[0;32m   4829\u001b[0m     \u001b[38;5;28;01melse\u001b[39;00m:\n\u001b[1;32m-> 4830\u001b[0m         new_axis \u001b[38;5;241m=\u001b[39m \u001b[43maxis\u001b[49m\u001b[38;5;241;43m.\u001b[39;49m\u001b[43mdrop\u001b[49m\u001b[43m(\u001b[49m\u001b[43mlabels\u001b[49m\u001b[43m,\u001b[49m\u001b[43m \u001b[49m\u001b[43merrors\u001b[49m\u001b[38;5;241;43m=\u001b[39;49m\u001b[43merrors\u001b[49m\u001b[43m)\u001b[49m\n\u001b[0;32m   4831\u001b[0m     indexer \u001b[38;5;241m=\u001b[39m axis\u001b[38;5;241m.\u001b[39mget_indexer(new_axis)\n\u001b[0;32m   4833\u001b[0m \u001b[38;5;66;03m# Case for non-unique axis\u001b[39;00m\n\u001b[0;32m   4834\u001b[0m \u001b[38;5;28;01melse\u001b[39;00m:\n",
      "File \u001b[1;32mc:\\Users\\ADMIN\\AppData\\Local\\Programs\\Python\\Python313\\Lib\\site-packages\\pandas\\core\\indexes\\base.py:7070\u001b[0m, in \u001b[0;36mIndex.drop\u001b[1;34m(self, labels, errors)\u001b[0m\n\u001b[0;32m   7068\u001b[0m \u001b[38;5;28;01mif\u001b[39;00m mask\u001b[38;5;241m.\u001b[39many():\n\u001b[0;32m   7069\u001b[0m     \u001b[38;5;28;01mif\u001b[39;00m errors \u001b[38;5;241m!=\u001b[39m \u001b[38;5;124m\"\u001b[39m\u001b[38;5;124mignore\u001b[39m\u001b[38;5;124m\"\u001b[39m:\n\u001b[1;32m-> 7070\u001b[0m         \u001b[38;5;28;01mraise\u001b[39;00m \u001b[38;5;167;01mKeyError\u001b[39;00m(\u001b[38;5;124mf\u001b[39m\u001b[38;5;124m\"\u001b[39m\u001b[38;5;132;01m{\u001b[39;00mlabels[mask]\u001b[38;5;241m.\u001b[39mtolist()\u001b[38;5;132;01m}\u001b[39;00m\u001b[38;5;124m not found in axis\u001b[39m\u001b[38;5;124m\"\u001b[39m)\n\u001b[0;32m   7071\u001b[0m     indexer \u001b[38;5;241m=\u001b[39m indexer[\u001b[38;5;241m~\u001b[39mmask]\n\u001b[0;32m   7072\u001b[0m \u001b[38;5;28;01mreturn\u001b[39;00m \u001b[38;5;28mself\u001b[39m\u001b[38;5;241m.\u001b[39mdelete(indexer)\n",
      "\u001b[1;31mKeyError\u001b[0m: \"['sibsp', 'Parch'] not found in axis\""
     ]
    }
   ],
   "source": [
    "#Drop unnecessary columns (e.g., Ticket, Name).\n",
    "df = df.drop(['sibsp', 'Parch'], axis=1)\n"
   ]
  },
  {
   "cell_type": "code",
   "execution_count": 22,
   "metadata": {},
   "outputs": [
    {
     "data": {
      "text/html": [
       "<div>\n",
       "<style scoped>\n",
       "    .dataframe tbody tr th:only-of-type {\n",
       "        vertical-align: middle;\n",
       "    }\n",
       "\n",
       "    .dataframe tbody tr th {\n",
       "        vertical-align: top;\n",
       "    }\n",
       "\n",
       "    .dataframe thead th {\n",
       "        text-align: right;\n",
       "    }\n",
       "</style>\n",
       "<table border=\"1\" class=\"dataframe\">\n",
       "  <thead>\n",
       "    <tr style=\"text-align: right;\">\n",
       "      <th></th>\n",
       "      <th>Passengerid</th>\n",
       "      <th>Age</th>\n",
       "      <th>Fare</th>\n",
       "      <th>Sex</th>\n",
       "      <th>zero</th>\n",
       "      <th>zero.1</th>\n",
       "      <th>zero.2</th>\n",
       "      <th>zero.3</th>\n",
       "      <th>zero.4</th>\n",
       "      <th>zero.5</th>\n",
       "      <th>...</th>\n",
       "      <th>zero.12</th>\n",
       "      <th>zero.13</th>\n",
       "      <th>zero.14</th>\n",
       "      <th>Pclass</th>\n",
       "      <th>zero.15</th>\n",
       "      <th>zero.16</th>\n",
       "      <th>Embarked</th>\n",
       "      <th>zero.17</th>\n",
       "      <th>zero.18</th>\n",
       "      <th>2urvived</th>\n",
       "    </tr>\n",
       "  </thead>\n",
       "  <tbody>\n",
       "    <tr>\n",
       "      <th>0</th>\n",
       "      <td>1</td>\n",
       "      <td>22.0</td>\n",
       "      <td>7.2500</td>\n",
       "      <td>0</td>\n",
       "      <td>0</td>\n",
       "      <td>0</td>\n",
       "      <td>0</td>\n",
       "      <td>0</td>\n",
       "      <td>0</td>\n",
       "      <td>0</td>\n",
       "      <td>...</td>\n",
       "      <td>0</td>\n",
       "      <td>0</td>\n",
       "      <td>0</td>\n",
       "      <td>3</td>\n",
       "      <td>0</td>\n",
       "      <td>0</td>\n",
       "      <td>2.0</td>\n",
       "      <td>0</td>\n",
       "      <td>0</td>\n",
       "      <td>0</td>\n",
       "    </tr>\n",
       "    <tr>\n",
       "      <th>1</th>\n",
       "      <td>2</td>\n",
       "      <td>38.0</td>\n",
       "      <td>71.2833</td>\n",
       "      <td>1</td>\n",
       "      <td>0</td>\n",
       "      <td>0</td>\n",
       "      <td>0</td>\n",
       "      <td>0</td>\n",
       "      <td>0</td>\n",
       "      <td>0</td>\n",
       "      <td>...</td>\n",
       "      <td>0</td>\n",
       "      <td>0</td>\n",
       "      <td>0</td>\n",
       "      <td>1</td>\n",
       "      <td>0</td>\n",
       "      <td>0</td>\n",
       "      <td>0.0</td>\n",
       "      <td>0</td>\n",
       "      <td>0</td>\n",
       "      <td>1</td>\n",
       "    </tr>\n",
       "    <tr>\n",
       "      <th>2</th>\n",
       "      <td>3</td>\n",
       "      <td>26.0</td>\n",
       "      <td>7.9250</td>\n",
       "      <td>1</td>\n",
       "      <td>0</td>\n",
       "      <td>0</td>\n",
       "      <td>0</td>\n",
       "      <td>0</td>\n",
       "      <td>0</td>\n",
       "      <td>0</td>\n",
       "      <td>...</td>\n",
       "      <td>0</td>\n",
       "      <td>0</td>\n",
       "      <td>0</td>\n",
       "      <td>3</td>\n",
       "      <td>0</td>\n",
       "      <td>0</td>\n",
       "      <td>2.0</td>\n",
       "      <td>0</td>\n",
       "      <td>0</td>\n",
       "      <td>1</td>\n",
       "    </tr>\n",
       "    <tr>\n",
       "      <th>3</th>\n",
       "      <td>4</td>\n",
       "      <td>35.0</td>\n",
       "      <td>53.1000</td>\n",
       "      <td>1</td>\n",
       "      <td>0</td>\n",
       "      <td>0</td>\n",
       "      <td>0</td>\n",
       "      <td>0</td>\n",
       "      <td>0</td>\n",
       "      <td>0</td>\n",
       "      <td>...</td>\n",
       "      <td>0</td>\n",
       "      <td>0</td>\n",
       "      <td>0</td>\n",
       "      <td>1</td>\n",
       "      <td>0</td>\n",
       "      <td>0</td>\n",
       "      <td>2.0</td>\n",
       "      <td>0</td>\n",
       "      <td>0</td>\n",
       "      <td>1</td>\n",
       "    </tr>\n",
       "    <tr>\n",
       "      <th>4</th>\n",
       "      <td>5</td>\n",
       "      <td>35.0</td>\n",
       "      <td>8.0500</td>\n",
       "      <td>0</td>\n",
       "      <td>0</td>\n",
       "      <td>0</td>\n",
       "      <td>0</td>\n",
       "      <td>0</td>\n",
       "      <td>0</td>\n",
       "      <td>0</td>\n",
       "      <td>...</td>\n",
       "      <td>0</td>\n",
       "      <td>0</td>\n",
       "      <td>0</td>\n",
       "      <td>3</td>\n",
       "      <td>0</td>\n",
       "      <td>0</td>\n",
       "      <td>2.0</td>\n",
       "      <td>0</td>\n",
       "      <td>0</td>\n",
       "      <td>0</td>\n",
       "    </tr>\n",
       "  </tbody>\n",
       "</table>\n",
       "<p>5 rows × 26 columns</p>\n",
       "</div>"
      ],
      "text/plain": [
       "   Passengerid   Age     Fare Sex  zero  zero.1  zero.2  zero.3  zero.4  \\\n",
       "0            1  22.0   7.2500   0     0       0       0       0       0   \n",
       "1            2  38.0  71.2833   1     0       0       0       0       0   \n",
       "2            3  26.0   7.9250   1     0       0       0       0       0   \n",
       "3            4  35.0  53.1000   1     0       0       0       0       0   \n",
       "4            5  35.0   8.0500   0     0       0       0       0       0   \n",
       "\n",
       "   zero.5  ...  zero.12  zero.13  zero.14  Pclass  zero.15  zero.16  Embarked  \\\n",
       "0       0  ...        0        0        0       3        0        0       2.0   \n",
       "1       0  ...        0        0        0       1        0        0       0.0   \n",
       "2       0  ...        0        0        0       3        0        0       2.0   \n",
       "3       0  ...        0        0        0       1        0        0       2.0   \n",
       "4       0  ...        0        0        0       3        0        0       2.0   \n",
       "\n",
       "   zero.17  zero.18  2urvived  \n",
       "0        0        0         0  \n",
       "1        0        0         1  \n",
       "2        0        0         1  \n",
       "3        0        0         1  \n",
       "4        0        0         0  \n",
       "\n",
       "[5 rows x 26 columns]"
      ]
     },
     "execution_count": 22,
     "metadata": {},
     "output_type": "execute_result"
    }
   ],
   "source": [
    "df.head()"
   ]
  },
  {
   "cell_type": "code",
   "execution_count": 29,
   "metadata": {},
   "outputs": [
    {
     "data": {
      "text/plain": [
       "(np.float64(29.50318563789152), np.float64(28.0), np.float64(28.0))"
      ]
     },
     "execution_count": 29,
     "metadata": {},
     "output_type": "execute_result"
    }
   ],
   "source": [
    "#Calculate mean, median, mode for Age and Fare.\n",
    "def mathss(x):\n",
    "    meann=df[x].mean()\n",
    "    mediann=df[x].median()\n",
    "    modee=df[x].mode()[0]\n",
    "    return (meann,mediann,modee)\n",
    "mathss('Age')"
   ]
  },
  {
   "cell_type": "code",
   "execution_count": 30,
   "metadata": {},
   "outputs": [
    {
     "data": {
      "text/plain": [
       "(np.float64(33.28108563789152), np.float64(14.4542), np.float64(8.05))"
      ]
     },
     "execution_count": 30,
     "metadata": {},
     "output_type": "execute_result"
    }
   ],
   "source": [
    "mathss('Fare')"
   ]
  },
  {
   "cell_type": "code",
   "execution_count": 32,
   "metadata": {},
   "outputs": [
    {
     "data": {
      "text/plain": [
       "(np.float64(29.50318563789152), np.float64(28.0), np.float64(28.0))"
      ]
     },
     "execution_count": 32,
     "metadata": {},
     "output_type": "execute_result"
    }
   ],
   "source": [
    "def mathss(x):\n",
    "    meann=x.mean()\n",
    "    mediann=x.median()\n",
    "    modee=x.mode()[0]\n",
    "    return (meann,mediann,modee)\n",
    "mathss(df['Age'])"
   ]
  },
  {
   "cell_type": "code",
   "execution_count": 33,
   "metadata": {},
   "outputs": [
    {
     "ename": "NameError",
     "evalue": "name 'plt' is not defined",
     "output_type": "error",
     "traceback": [
      "\u001b[1;31m---------------------------------------------------------------------------\u001b[0m",
      "\u001b[1;31mNameError\u001b[0m                                 Traceback (most recent call last)",
      "Cell \u001b[1;32mIn[33], line 2\u001b[0m\n\u001b[0;32m      1\u001b[0m df\u001b[38;5;241m.\u001b[39mhist()\n\u001b[1;32m----> 2\u001b[0m \u001b[43mplt\u001b[49m\u001b[38;5;241m.\u001b[39mshow()\n",
      "\u001b[1;31mNameError\u001b[0m: name 'plt' is not defined"
     ]
    },
    {
     "data": {
      "image/png": "[encoded data removed]",
      "text/plain": [
       "<Figure size 640x480 with 25 Axes>"
      ]
     },
     "metadata": {},
     "output_type": "display_data"
    }
   ],
   "source": [
    "df.hist()\n",
    "plt.show()"
   ]
  },
  {
   "cell_type": "code",
   "execution_count": 34,
   "metadata": {},
   "outputs": [
    {
     "ename": "NameError",
     "evalue": "name 'plt' is not defined",
     "output_type": "error",
     "traceback": [
      "\u001b[1;31m---------------------------------------------------------------------------\u001b[0m",
      "\u001b[1;31mNameError\u001b[0m                                 Traceback (most recent call last)",
      "Cell \u001b[1;32mIn[34], line 2\u001b[0m\n\u001b[0;32m      1\u001b[0m df\u001b[38;5;241m.\u001b[39mhist(\u001b[38;5;124m'\u001b[39m\u001b[38;5;124mAge\u001b[39m\u001b[38;5;124m'\u001b[39m)\n\u001b[1;32m----> 2\u001b[0m \u001b[43mplt\u001b[49m\u001b[38;5;241m.\u001b[39mshow()      \n",
      "\u001b[1;31mNameError\u001b[0m: name 'plt' is not defined"
     ]
    },
    {
     "data": {
      "image/png": "[encoded data removed]",
      "text/plain": [
       "<Figure size 640x480 with 1 Axes>"
      ]
     },
     "metadata": {},
     "output_type": "display_data"
    }
   ],
   "source": [
    "df.hist('Age')\n",
    "plt.show()      "
   ]
  },
  {
   "cell_type": "code",
   "execution_count": 1,
   "metadata": {},
   "outputs": [
    {
     "ename": "NameError",
     "evalue": "name 'df' is not defined",
     "output_type": "error",
     "traceback": [
      "\u001b[1;31m---------------------------------------------------------------------------\u001b[0m",
      "\u001b[1;31mNameError\u001b[0m                                 Traceback (most recent call last)",
      "Cell \u001b[1;32mIn[1], line 2\u001b[0m\n\u001b[0;32m      1\u001b[0m \u001b[38;5;66;03m#Analyze correlation between features (using corr()).\u001b[39;00m\n\u001b[1;32m----> 2\u001b[0m \u001b[38;5;28mprint\u001b[39m(\u001b[43mdf\u001b[49m\u001b[38;5;241m.\u001b[39mcorr())\n",
      "\u001b[1;31mNameError\u001b[0m: name 'df' is not defined"
     ]
    }
   ],
   "source": [
    "#Analyze correlation between features (using corr()).\n",
    "print(df.corr())"
   ]
  },
  {
   "cell_type": "code",
   "execution_count": 2,
   "metadata": {},
   "outputs": [
    {
     "ename": "NameError",
     "evalue": "name 'df' is not defined",
     "output_type": "error",
     "traceback": [
      "\u001b[1;31m---------------------------------------------------------------------------\u001b[0m",
      "\u001b[1;31mNameError\u001b[0m                                 Traceback (most recent call last)",
      "Cell \u001b[1;32mIn[2], line 1\u001b[0m\n\u001b[1;32m----> 1\u001b[0m \u001b[43mdf\u001b[49m\u001b[38;5;241m.\u001b[39mhead()\n",
      "\u001b[1;31mNameError\u001b[0m: name 'df' is not defined"
     ]
    }
   ],
   "source": [
    "df.head()"
   ]
  },
  {
   "cell_type": "code",
   "execution_count": 3,
   "metadata": {},
   "outputs": [],
   "source": [
    "import pandas as pd"
   ]
  },
  {
   "cell_type": "code",
   "execution_count": 4,
   "metadata": {},
   "outputs": [
    {
     "ename": "NameError",
     "evalue": "name 'df' is not defined",
     "output_type": "error",
     "traceback": [
      "\u001b[1;31m---------------------------------------------------------------------------\u001b[0m",
      "\u001b[1;31mNameError\u001b[0m                                 Traceback (most recent call last)",
      "Cell \u001b[1;32mIn[4], line 1\u001b[0m\n\u001b[1;32m----> 1\u001b[0m \u001b[43mdf\u001b[49m\u001b[38;5;241m.\u001b[39mhead()\n",
      "\u001b[1;31mNameError\u001b[0m: name 'df' is not defined"
     ]
    }
   ],
   "source": [
    "df.head()"
   ]
  },
  {
   "cell_type": "code",
   "execution_count": 5,
   "metadata": {},
   "outputs": [],
   "source": [
    "df=pd.read_csv(r\"C:\\Users\\ADMIN\\Documents\\train_and_test2.csv\")"
   ]
  },
  {
   "cell_type": "code",
   "execution_count": 6,
   "metadata": {},
   "outputs": [
    {
     "data": {
      "text/html": [
       "<div>\n",
       "<style scoped>\n",
       "    .dataframe tbody tr th:only-of-type {\n",
       "        vertical-align: middle;\n",
       "    }\n",
       "\n",
       "    .dataframe tbody tr th {\n",
       "        vertical-align: top;\n",
       "    }\n",
       "\n",
       "    .dataframe thead th {\n",
       "        text-align: right;\n",
       "    }\n",
       "</style>\n",
       "<table border=\"1\" class=\"dataframe\">\n",
       "  <thead>\n",
       "    <tr style=\"text-align: right;\">\n",
       "      <th></th>\n",
       "      <th>Passengerid</th>\n",
       "      <th>Age</th>\n",
       "      <th>Fare</th>\n",
       "      <th>Sex</th>\n",
       "      <th>sibsp</th>\n",
       "      <th>zero</th>\n",
       "      <th>zero.1</th>\n",
       "      <th>zero.2</th>\n",
       "      <th>zero.3</th>\n",
       "      <th>zero.4</th>\n",
       "      <th>...</th>\n",
       "      <th>zero.12</th>\n",
       "      <th>zero.13</th>\n",
       "      <th>zero.14</th>\n",
       "      <th>Pclass</th>\n",
       "      <th>zero.15</th>\n",
       "      <th>zero.16</th>\n",
       "      <th>Embarked</th>\n",
       "      <th>zero.17</th>\n",
       "      <th>zero.18</th>\n",
       "      <th>2urvived</th>\n",
       "    </tr>\n",
       "  </thead>\n",
       "  <tbody>\n",
       "    <tr>\n",
       "      <th>0</th>\n",
       "      <td>1</td>\n",
       "      <td>22.0</td>\n",
       "      <td>7.2500</td>\n",
       "      <td>0</td>\n",
       "      <td>1</td>\n",
       "      <td>0</td>\n",
       "      <td>0</td>\n",
       "      <td>0</td>\n",
       "      <td>0</td>\n",
       "      <td>0</td>\n",
       "      <td>...</td>\n",
       "      <td>0</td>\n",
       "      <td>0</td>\n",
       "      <td>0</td>\n",
       "      <td>3</td>\n",
       "      <td>0</td>\n",
       "      <td>0</td>\n",
       "      <td>2.0</td>\n",
       "      <td>0</td>\n",
       "      <td>0</td>\n",
       "      <td>0</td>\n",
       "    </tr>\n",
       "    <tr>\n",
       "      <th>1</th>\n",
       "      <td>2</td>\n",
       "      <td>38.0</td>\n",
       "      <td>71.2833</td>\n",
       "      <td>1</td>\n",
       "      <td>1</td>\n",
       "      <td>0</td>\n",
       "      <td>0</td>\n",
       "      <td>0</td>\n",
       "      <td>0</td>\n",
       "      <td>0</td>\n",
       "      <td>...</td>\n",
       "      <td>0</td>\n",
       "      <td>0</td>\n",
       "      <td>0</td>\n",
       "      <td>1</td>\n",
       "      <td>0</td>\n",
       "      <td>0</td>\n",
       "      <td>0.0</td>\n",
       "      <td>0</td>\n",
       "      <td>0</td>\n",
       "      <td>1</td>\n",
       "    </tr>\n",
       "    <tr>\n",
       "      <th>2</th>\n",
       "      <td>3</td>\n",
       "      <td>26.0</td>\n",
       "      <td>7.9250</td>\n",
       "      <td>1</td>\n",
       "      <td>0</td>\n",
       "      <td>0</td>\n",
       "      <td>0</td>\n",
       "      <td>0</td>\n",
       "      <td>0</td>\n",
       "      <td>0</td>\n",
       "      <td>...</td>\n",
       "      <td>0</td>\n",
       "      <td>0</td>\n",
       "      <td>0</td>\n",
       "      <td>3</td>\n",
       "      <td>0</td>\n",
       "      <td>0</td>\n",
       "      <td>2.0</td>\n",
       "      <td>0</td>\n",
       "      <td>0</td>\n",
       "      <td>1</td>\n",
       "    </tr>\n",
       "    <tr>\n",
       "      <th>3</th>\n",
       "      <td>4</td>\n",
       "      <td>35.0</td>\n",
       "      <td>53.1000</td>\n",
       "      <td>1</td>\n",
       "      <td>1</td>\n",
       "      <td>0</td>\n",
       "      <td>0</td>\n",
       "      <td>0</td>\n",
       "      <td>0</td>\n",
       "      <td>0</td>\n",
       "      <td>...</td>\n",
       "      <td>0</td>\n",
       "      <td>0</td>\n",
       "      <td>0</td>\n",
       "      <td>1</td>\n",
       "      <td>0</td>\n",
       "      <td>0</td>\n",
       "      <td>2.0</td>\n",
       "      <td>0</td>\n",
       "      <td>0</td>\n",
       "      <td>1</td>\n",
       "    </tr>\n",
       "    <tr>\n",
       "      <th>4</th>\n",
       "      <td>5</td>\n",
       "      <td>35.0</td>\n",
       "      <td>8.0500</td>\n",
       "      <td>0</td>\n",
       "      <td>0</td>\n",
       "      <td>0</td>\n",
       "      <td>0</td>\n",
       "      <td>0</td>\n",
       "      <td>0</td>\n",
       "      <td>0</td>\n",
       "      <td>...</td>\n",
       "      <td>0</td>\n",
       "      <td>0</td>\n",
       "      <td>0</td>\n",
       "      <td>3</td>\n",
       "      <td>0</td>\n",
       "      <td>0</td>\n",
       "      <td>2.0</td>\n",
       "      <td>0</td>\n",
       "      <td>0</td>\n",
       "      <td>0</td>\n",
       "    </tr>\n",
       "  </tbody>\n",
       "</table>\n",
       "<p>5 rows × 28 columns</p>\n",
       "</div>"
      ],
      "text/plain": [
       "   Passengerid   Age     Fare  Sex  sibsp  zero  zero.1  zero.2  zero.3  \\\n",
       "0            1  22.0   7.2500    0      1     0       0       0       0   \n",
       "1            2  38.0  71.2833    1      1     0       0       0       0   \n",
       "2            3  26.0   7.9250    1      0     0       0       0       0   \n",
       "3            4  35.0  53.1000    1      1     0       0       0       0   \n",
       "4            5  35.0   8.0500    0      0     0       0       0       0   \n",
       "\n",
       "   zero.4  ...  zero.12  zero.13  zero.14  Pclass  zero.15  zero.16  Embarked  \\\n",
       "0       0  ...        0        0        0       3        0        0       2.0   \n",
       "1       0  ...        0        0        0       1        0        0       0.0   \n",
       "2       0  ...        0        0        0       3        0        0       2.0   \n",
       "3       0  ...        0        0        0       1        0        0       2.0   \n",
       "4       0  ...        0        0        0       3        0        0       2.0   \n",
       "\n",
       "   zero.17  zero.18  2urvived  \n",
       "0        0        0         0  \n",
       "1        0        0         1  \n",
       "2        0        0         1  \n",
       "3        0        0         1  \n",
       "4        0        0         0  \n",
       "\n",
       "[5 rows x 28 columns]"
      ]
     },
     "execution_count": 6,
     "metadata": {},
     "output_type": "execute_result"
    }
   ],
   "source": [
    "df.head()\n",
    "\n"
   ]
  },
  {
   "cell_type": "code",
   "execution_count": 7,
   "metadata": {},
   "outputs": [
    {
     "name": "stdout",
     "output_type": "stream",
     "text": [
      "             Passengerid       Age      Fare       Sex     sibsp  zero  \\\n",
      "Passengerid     1.000000  0.025799  0.031128 -0.013406 -0.055224   NaN   \n",
      "Age             0.025799  1.000000  0.178182 -0.053663 -0.189972   NaN   \n",
      "Fare            0.031128  0.178182  1.000000  0.185681  0.160349   NaN   \n",
      "Sex            -0.013406 -0.053663  0.185681  1.000000  0.109609   NaN   \n",
      "sibsp          -0.055224 -0.189972  0.160349  0.109609  1.000000   NaN   \n",
      "zero                 NaN       NaN       NaN       NaN       NaN   NaN   \n",
      "zero.1               NaN       NaN       NaN       NaN       NaN   NaN   \n",
      "zero.2               NaN       NaN       NaN       NaN       NaN   NaN   \n",
      "zero.3               NaN       NaN       NaN       NaN       NaN   NaN   \n",
      "zero.4               NaN       NaN       NaN       NaN       NaN   NaN   \n",
      "zero.5               NaN       NaN       NaN       NaN       NaN   NaN   \n",
      "zero.6               NaN       NaN       NaN       NaN       NaN   NaN   \n",
      "Parch           0.008942 -0.125851  0.221635  0.213125  0.373587   NaN   \n",
      "zero.7               NaN       NaN       NaN       NaN       NaN   NaN   \n",
      "zero.8               NaN       NaN       NaN       NaN       NaN   NaN   \n",
      "zero.9               NaN       NaN       NaN       NaN       NaN   NaN   \n",
      "zero.10              NaN       NaN       NaN       NaN       NaN   NaN   \n",
      "zero.11              NaN       NaN       NaN       NaN       NaN   NaN   \n",
      "zero.12              NaN       NaN       NaN       NaN       NaN   NaN   \n",
      "zero.13              NaN       NaN       NaN       NaN       NaN   NaN   \n",
      "zero.14              NaN       NaN       NaN       NaN       NaN   NaN   \n",
      "Pclass         -0.038354 -0.377908 -0.558683 -0.124617  0.060832   NaN   \n",
      "zero.15              NaN       NaN       NaN       NaN       NaN   NaN   \n",
      "zero.16              NaN       NaN       NaN       NaN       NaN   NaN   \n",
      "Embarked       -0.051518 -0.065125 -0.239212 -0.099408  0.066055   NaN   \n",
      "zero.17              NaN       NaN       NaN       NaN       NaN   NaN   \n",
      "zero.18              NaN       NaN       NaN       NaN       NaN   NaN   \n",
      "2urvived       -0.331493 -0.055862  0.173786  0.404020 -0.014375   NaN   \n",
      "\n",
      "             zero.1  zero.2  zero.3  zero.4  ...  zero.12  zero.13  zero.14  \\\n",
      "Passengerid     NaN     NaN     NaN     NaN  ...      NaN      NaN      NaN   \n",
      "Age             NaN     NaN     NaN     NaN  ...      NaN      NaN      NaN   \n",
      "Fare            NaN     NaN     NaN     NaN  ...      NaN      NaN      NaN   \n",
      "Sex             NaN     NaN     NaN     NaN  ...      NaN      NaN      NaN   \n",
      "sibsp           NaN     NaN     NaN     NaN  ...      NaN      NaN      NaN   \n",
      "zero            NaN     NaN     NaN     NaN  ...      NaN      NaN      NaN   \n",
      "zero.1          NaN     NaN     NaN     NaN  ...      NaN      NaN      NaN   \n",
      "zero.2          NaN     NaN     NaN     NaN  ...      NaN      NaN      NaN   \n",
      "zero.3          NaN     NaN     NaN     NaN  ...      NaN      NaN      NaN   \n",
      "zero.4          NaN     NaN     NaN     NaN  ...      NaN      NaN      NaN   \n",
      "zero.5          NaN     NaN     NaN     NaN  ...      NaN      NaN      NaN   \n",
      "zero.6          NaN     NaN     NaN     NaN  ...      NaN      NaN      NaN   \n",
      "Parch           NaN     NaN     NaN     NaN  ...      NaN      NaN      NaN   \n",
      "zero.7          NaN     NaN     NaN     NaN  ...      NaN      NaN      NaN   \n",
      "zero.8          NaN     NaN     NaN     NaN  ...      NaN      NaN      NaN   \n",
      "zero.9          NaN     NaN     NaN     NaN  ...      NaN      NaN      NaN   \n",
      "zero.10         NaN     NaN     NaN     NaN  ...      NaN      NaN      NaN   \n",
      "zero.11         NaN     NaN     NaN     NaN  ...      NaN      NaN      NaN   \n",
      "zero.12         NaN     NaN     NaN     NaN  ...      NaN      NaN      NaN   \n",
      "zero.13         NaN     NaN     NaN     NaN  ...      NaN      NaN      NaN   \n",
      "zero.14         NaN     NaN     NaN     NaN  ...      NaN      NaN      NaN   \n",
      "Pclass          NaN     NaN     NaN     NaN  ...      NaN      NaN      NaN   \n",
      "zero.15         NaN     NaN     NaN     NaN  ...      NaN      NaN      NaN   \n",
      "zero.16         NaN     NaN     NaN     NaN  ...      NaN      NaN      NaN   \n",
      "Embarked        NaN     NaN     NaN     NaN  ...      NaN      NaN      NaN   \n",
      "zero.17         NaN     NaN     NaN     NaN  ...      NaN      NaN      NaN   \n",
      "zero.18         NaN     NaN     NaN     NaN  ...      NaN      NaN      NaN   \n",
      "2urvived        NaN     NaN     NaN     NaN  ...      NaN      NaN      NaN   \n",
      "\n",
      "               Pclass  zero.15  zero.16  Embarked  zero.17  zero.18  2urvived  \n",
      "Passengerid -0.038354      NaN      NaN -0.051518      NaN      NaN -0.331493  \n",
      "Age         -0.377908      NaN      NaN -0.065125      NaN      NaN -0.055862  \n",
      "Fare        -0.558683      NaN      NaN -0.239212      NaN      NaN  0.173786  \n",
      "Sex         -0.124617      NaN      NaN -0.099408      NaN      NaN  0.404020  \n",
      "sibsp        0.060832      NaN      NaN  0.066055      NaN      NaN -0.014375  \n",
      "zero              NaN      NaN      NaN       NaN      NaN      NaN       NaN  \n",
      "zero.1            NaN      NaN      NaN       NaN      NaN      NaN       NaN  \n",
      "zero.2            NaN      NaN      NaN       NaN      NaN      NaN       NaN  \n",
      "zero.3            NaN      NaN      NaN       NaN      NaN      NaN       NaN  \n",
      "zero.4            NaN      NaN      NaN       NaN      NaN      NaN       NaN  \n",
      "zero.5            NaN      NaN      NaN       NaN      NaN      NaN       NaN  \n",
      "zero.6            NaN      NaN      NaN       NaN      NaN      NaN       NaN  \n",
      "Parch        0.018322      NaN      NaN  0.045216      NaN      NaN  0.054908  \n",
      "zero.7            NaN      NaN      NaN       NaN      NaN      NaN       NaN  \n",
      "zero.8            NaN      NaN      NaN       NaN      NaN      NaN       NaN  \n",
      "zero.9            NaN      NaN      NaN       NaN      NaN      NaN       NaN  \n",
      "zero.10           NaN      NaN      NaN       NaN      NaN      NaN       NaN  \n",
      "zero.11           NaN      NaN      NaN       NaN      NaN      NaN       NaN  \n",
      "zero.12           NaN      NaN      NaN       NaN      NaN      NaN       NaN  \n",
      "zero.13           NaN      NaN      NaN       NaN      NaN      NaN       NaN  \n",
      "zero.14           NaN      NaN      NaN       NaN      NaN      NaN       NaN  \n",
      "Pclass       1.000000      NaN      NaN  0.187349      NaN      NaN -0.244686  \n",
      "zero.15           NaN      NaN      NaN       NaN      NaN      NaN       NaN  \n",
      "zero.16           NaN      NaN      NaN       NaN      NaN      NaN       NaN  \n",
      "Embarked     0.187349      NaN      NaN  1.000000      NaN      NaN -0.093225  \n",
      "zero.17           NaN      NaN      NaN       NaN      NaN      NaN       NaN  \n",
      "zero.18           NaN      NaN      NaN       NaN      NaN      NaN       NaN  \n",
      "2urvived    -0.244686      NaN      NaN -0.093225      NaN      NaN  1.000000  \n",
      "\n",
      "[28 rows x 28 columns]\n"
     ]
    }
   ],
   "source": [
    "print(df.corr())"
   ]
  },
  {
   "cell_type": "code",
   "execution_count": 8,
   "metadata": {},
   "outputs": [
    {
     "ename": "NameError",
     "evalue": "name 'plt' is not defined",
     "output_type": "error",
     "traceback": [
      "\u001b[1;31m---------------------------------------------------------------------------\u001b[0m",
      "\u001b[1;31mNameError\u001b[0m                                 Traceback (most recent call last)",
      "Cell \u001b[1;32mIn[8], line 5\u001b[0m\n\u001b[0;32m      3\u001b[0m     plt\u001b[38;5;241m.\u001b[39mplot(\u001b[38;5;124m'\u001b[39m\u001b[38;5;124m2urvived\u001b[39m\u001b[38;5;124m'\u001b[39m,x)\n\u001b[0;32m      4\u001b[0m     plt\u001b[38;5;241m.\u001b[39mshow()\n\u001b[1;32m----> 5\u001b[0m \u001b[43mplott\u001b[49m\u001b[43m(\u001b[49m\u001b[38;5;124;43m'\u001b[39;49m\u001b[38;5;124;43mPclass\u001b[39;49m\u001b[38;5;124;43m'\u001b[39;49m\u001b[43m)\u001b[49m\n",
      "Cell \u001b[1;32mIn[8], line 3\u001b[0m, in \u001b[0;36mplott\u001b[1;34m(x)\u001b[0m\n\u001b[0;32m      2\u001b[0m \u001b[38;5;28;01mdef\u001b[39;00m\u001b[38;5;250m \u001b[39m\u001b[38;5;21mplott\u001b[39m(x):\n\u001b[1;32m----> 3\u001b[0m     \u001b[43mplt\u001b[49m\u001b[38;5;241m.\u001b[39mplot(\u001b[38;5;124m'\u001b[39m\u001b[38;5;124m2urvived\u001b[39m\u001b[38;5;124m'\u001b[39m,x)\n\u001b[0;32m      4\u001b[0m     plt\u001b[38;5;241m.\u001b[39mshow()\n",
      "\u001b[1;31mNameError\u001b[0m: name 'plt' is not defined"
     ]
    }
   ],
   "source": [
    "#Visualize the survival rate by passenger class, gender, and age group.\n",
    "def plott(x):\n",
    "    plt.plot('2urvived',x)\n",
    "    plt.show()\n",
    "plott('Pclass')"
   ]
  },
  {
   "cell_type": "code",
   "execution_count": 9,
   "metadata": {},
   "outputs": [
    {
     "ename": "ModuleNotFoundError",
     "evalue": "No module named 'pyplot'",
     "output_type": "error",
     "traceback": [
      "\u001b[1;31m---------------------------------------------------------------------------\u001b[0m",
      "\u001b[1;31mModuleNotFoundError\u001b[0m                       Traceback (most recent call last)",
      "Cell \u001b[1;32mIn[9], line 1\u001b[0m\n\u001b[1;32m----> 1\u001b[0m \u001b[38;5;28;01mimport\u001b[39;00m\u001b[38;5;250m \u001b[39m\u001b[38;5;21;01mpyplot\u001b[39;00m\u001b[38;5;250m \u001b[39m\u001b[38;5;28;01mas\u001b[39;00m\u001b[38;5;250m \u001b[39m\u001b[38;5;21;01mplt\u001b[39;00m\n",
      "\u001b[1;31mModuleNotFoundError\u001b[0m: No module named 'pyplot'"
     ]
    }
   ],
   "source": [
    "import pyplot as plt"
   ]
  },
  {
   "cell_type": "code",
   "execution_count": 10,
   "metadata": {},
   "outputs": [
    {
     "name": "stdout",
     "output_type": "stream",
     "text": [
      "Requirement already satisfied: matplotlib in c:\\users\\admin\\appdata\\local\\programs\\python\\python313\\lib\\site-packages (3.10.0)\n",
      "Requirement already satisfied: contourpy>=1.0.1 in c:\\users\\admin\\appdata\\local\\programs\\python\\python313\\lib\\site-packages (from matplotlib) (1.3.1)\n",
      "Requirement already satisfied: cycler>=0.10 in c:\\users\\admin\\appdata\\local\\programs\\python\\python313\\lib\\site-packages (from matplotlib) (0.12.1)\n",
      "Requirement already satisfied: fonttools>=4.22.0 in c:\\users\\admin\\appdata\\local\\programs\\python\\python313\\lib\\site-packages (from matplotlib) (4.56.0)\n",
      "Requirement already satisfied: kiwisolver>=1.3.1 in c:\\users\\admin\\appdata\\local\\programs\\python\\python313\\lib\\site-packages (from matplotlib) (1.4.8)\n",
      "Requirement already satisfied: numpy>=1.23 in c:\\users\\admin\\appdata\\local\\programs\\python\\python313\\lib\\site-packages (from matplotlib) (2.2.3)\n",
      "Requirement already satisfied: packaging>=20.0 in c:\\users\\admin\\appdata\\roaming\\python\\python313\\site-packages (from matplotlib) (24.2)\n",
      "Requirement already satisfied: pillow>=8 in c:\\users\\admin\\appdata\\local\\programs\\python\\python313\\lib\\site-packages (from matplotlib) (11.1.0)\n",
      "Requirement already satisfied: pyparsing>=2.3.1 in c:\\users\\admin\\appdata\\local\\programs\\python\\python313\\lib\\site-packages (from matplotlib) (3.2.1)\n",
      "Requirement already satisfied: python-dateutil>=2.7 in c:\\users\\admin\\appdata\\roaming\\python\\python313\\site-packages (from matplotlib) (2.9.0.post0)\n",
      "Requirement already satisfied: six>=1.5 in c:\\users\\admin\\appdata\\roaming\\python\\python313\\site-packages (from python-dateutil>=2.7->matplotlib) (1.17.0)\n",
      "Note: you may need to restart the kernel to use updated packages.\n"
     ]
    },
    {
     "name": "stderr",
     "output_type": "stream",
     "text": [
      "\n",
      "[notice] A new release of pip is available: 24.3.1 -> 25.0.1\n",
      "[notice] To update, run: python.exe -m pip install --upgrade pip\n"
     ]
    }
   ],
   "source": [
    "pip install matplotlib"
   ]
  },
  {
   "cell_type": "code",
   "execution_count": 12,
   "metadata": {},
   "outputs": [],
   "source": [
    "from matplotlib import pyplot as plt"
   ]
  },
  {
   "cell_type": "code",
   "execution_count": 16,
   "metadata": {},
   "outputs": [
    {
     "data": {
      "image/png": "[encoded data removed]",
      "text/plain": [
       "<Figure size 640x480 with 1 Axes>"
      ]
     },
     "metadata": {},
     "output_type": "display_data"
    }
   ],
   "source": [
    "#Visualize the survival rate by passenger class, gender, and age group.\n",
    "def plott(x):\n",
    "    plt.bar(df[x],df['2urvived'])\n",
    "    plt.show()\n",
    "plott('Pclass')"
   ]
  },
  {
   "cell_type": "code",
   "execution_count": 17,
   "metadata": {},
   "outputs": [
    {
     "data": {
      "image/png": "[encoded data removed]",
      "text/plain": [
       "<Figure size 640x480 with 1 Axes>"
      ]
     },
     "metadata": {},
     "output_type": "display_data"
    }
   ],
   "source": [
    "plott('Sex')"
   ]
  },
  {
   "cell_type": "code",
   "execution_count": 18,
   "metadata": {},
   "outputs": [
    {
     "data": {
      "image/png": "[encoded data removed]",
      "text/plain": [
       "<Figure size 640x480 with 1 Axes>"
      ]
     },
     "metadata": {},
     "output_type": "display_data"
    }
   ],
   "source": [
    "plott('Age')"
   ]
  },
  {
   "cell_type": "code",
   "execution_count": 22,
   "metadata": {},
   "outputs": [
    {
     "name": "stdout",
     "output_type": "stream",
     "text": [
      "0.1737862546525129\n"
     ]
    }
   ],
   "source": [
    "#Check if fare prices influenced survival\n",
    "print(df['2urvived'].corr(df['Fare']))"
   ]
  },
  {
   "cell_type": "code",
   "execution_count": 29,
   "metadata": {},
   "outputs": [
    {
     "data": {
      "image/png": "[encoded data removed]",
      "text/plain": [
       "<Figure size 640x480 with 1 Axes>"
      ]
     },
     "metadata": {},
     "output_type": "display_data"
    }
   ],
   "source": [
    "#Use Plotly or Matplotlib for advanced visualizations.\n",
    "y=df['Age']\n",
    "plt.boxplot(y)\n",
    "plt.show()\n"
   ]
  },
  {
   "cell_type": "code",
   "execution_count": 34,
   "metadata": {},
   "outputs": [
    {
     "name": "stdout",
     "output_type": "stream",
     "text": [
      "Sex\n",
      "0    0.1293\n",
      "1    0.5000\n",
      "Name: 2urvived, dtype: float64\n"
     ]
    }
   ],
   "source": [
    "#Calculate the probability of survival for each class and gender.\n",
    "def prob(x):\n",
    "    a= df.groupby(x)['2urvived'].mean()\n",
    "    print(a)\n",
    "prob(df['Sex'])\n"
   ]
  },
  {
   "cell_type": "code",
   "execution_count": 38,
   "metadata": {},
   "outputs": [
    {
     "name": "stdout",
     "output_type": "stream",
     "text": [
      "Pclass\n",
      "1    0.421053\n",
      "2    0.314079\n",
      "3    0.167842\n",
      "Name: 2urvived, dtype: float64\n"
     ]
    }
   ],
   "source": [
    "prob(df['Pclass'])"
   ]
  },
  {
   "cell_type": "code",
   "execution_count": null,
   "metadata": {},
   "outputs": [],
   "source": []
  }
 ],
 "metadata": {
  "kernelspec": {
   "display_name": "Python 3",
   "language": "python",
   "name": "python3"
  },
  "language_info": {
   "codemirror_mode": {
    "name": "ipython",
    "version": 3
   },
   "file_extension": ".py",
   "mimetype": "text/x-python",
   "name": "python",
   "nbconvert_exporter": "python",
   "pygments_lexer": "ipython3",
   "version": "3.13.2"
  }
 },
 "nbformat": 4,
 "nbformat_minor": 2
}
