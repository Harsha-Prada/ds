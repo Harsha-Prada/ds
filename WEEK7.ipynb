{
  "nbformat": 4,
  "nbformat_minor": 0,
  "metadata": {
    "colab": {
      "provenance": []
    },
    "kernelspec": {
      "name": "python3",
      "display_name": "Python 3"
    },
    "language_info": {
      "name": "python"
    }
  },
  "cells": [
    {
      "cell_type": "code",
      "execution_count": 1,
      "metadata": {
        "colab": {
          "base_uri": "https://localhost:8080/"
        },
        "id": "RPlpgWTD9o_-",
        "outputId": "97d7983d-a89e-486b-a651-5c2168e75382"
      },
      "outputs": [
        {
          "output_type": "stream",
          "name": "stdout",
          "text": [
            "Requirement already satisfied: pyspark in /usr/local/lib/python3.11/dist-packages (3.5.1)\n",
            "Requirement already satisfied: py4j==0.10.9.7 in /usr/local/lib/python3.11/dist-packages (from pyspark) (0.10.9.7)\n"
          ]
        }
      ],
      "source": [
        "pip install pyspark"
      ]
    },
    {
      "cell_type": "code",
      "source": [
        "from pyspark.sql import SparkSession"
      ],
      "metadata": {
        "id": "Egd0KC0T95kb"
      },
      "execution_count": 2,
      "outputs": []
    },
    {
      "cell_type": "code",
      "source": [
        "from pyspark.sql.functions import sum, avg, max, min, count"
      ],
      "metadata": {
        "id": "-WK4YJOmC0jk"
      },
      "execution_count": 3,
      "outputs": []
    },
    {
      "cell_type": "code",
      "source": [
        "spark = SparkSession.builder.appName(\"SparkSQL\").getOrCreate()"
      ],
      "metadata": {
        "id": "GfZufWy4C9JO"
      },
      "execution_count": 4,
      "outputs": []
    },
    {
      "cell_type": "code",
      "source": [
        "df=spark.read.csv(\"/content/covid_19_clean_complete.csv\",header=True,inferSchema=True)"
      ],
      "metadata": {
        "id": "D7tFM-JMDA_l"
      },
      "execution_count": 5,
      "outputs": []
    },
    {
      "cell_type": "code",
      "source": [
        "df.show()"
      ],
      "metadata": {
        "colab": {
          "base_uri": "https://localhost:8080/"
        },
        "id": "txKFAkeaDcNr",
        "outputId": "eb23ef7a-1387-43fc-e8c9-5261a94caabd"
      },
      "execution_count": 6,
      "outputs": [
        {
          "output_type": "stream",
          "name": "stdout",
          "text": [
            "+--------------------+-------------------+---------+----------+----------+---------+------+---------+------+--------------------+\n",
            "|      Province/State|     Country/Region|      Lat|      Long|      Date|Confirmed|Deaths|Recovered|Active|          WHO Region|\n",
            "+--------------------+-------------------+---------+----------+----------+---------+------+---------+------+--------------------+\n",
            "|                NULL|        Afghanistan| 33.93911| 67.709953|2020-01-22|        0|     0|        0|     0|Eastern Mediterra...|\n",
            "|                NULL|            Albania|  41.1533|   20.1683|2020-01-22|        0|     0|        0|     0|              Europe|\n",
            "|                NULL|            Algeria|  28.0339|    1.6596|2020-01-22|        0|     0|        0|     0|              Africa|\n",
            "|                NULL|            Andorra|  42.5063|    1.5218|2020-01-22|        0|     0|        0|     0|              Europe|\n",
            "|                NULL|             Angola| -11.2027|   17.8739|2020-01-22|        0|     0|        0|     0|              Africa|\n",
            "|                NULL|Antigua and Barbuda|  17.0608|  -61.7964|2020-01-22|        0|     0|        0|     0|            Americas|\n",
            "|                NULL|          Argentina| -38.4161|  -63.6167|2020-01-22|        0|     0|        0|     0|            Americas|\n",
            "|                NULL|            Armenia|  40.0691|   45.0382|2020-01-22|        0|     0|        0|     0|              Europe|\n",
            "|Australian Capita...|          Australia| -35.4735|  149.0124|2020-01-22|        0|     0|        0|     0|     Western Pacific|\n",
            "|     New South Wales|          Australia| -33.8688|  151.2093|2020-01-22|        0|     0|        0|     0|     Western Pacific|\n",
            "|  Northern Territory|          Australia| -12.4634|  130.8456|2020-01-22|        0|     0|        0|     0|     Western Pacific|\n",
            "|          Queensland|          Australia| -27.4698|  153.0251|2020-01-22|        0|     0|        0|     0|     Western Pacific|\n",
            "|     South Australia|          Australia| -34.9285|  138.6007|2020-01-22|        0|     0|        0|     0|     Western Pacific|\n",
            "|            Tasmania|          Australia| -42.8821|  147.3272|2020-01-22|        0|     0|        0|     0|     Western Pacific|\n",
            "|            Victoria|          Australia| -37.8136|  144.9631|2020-01-22|        0|     0|        0|     0|     Western Pacific|\n",
            "|   Western Australia|          Australia| -31.9505|  115.8605|2020-01-22|        0|     0|        0|     0|     Western Pacific|\n",
            "|                NULL|            Austria|  47.5162|   14.5501|2020-01-22|        0|     0|        0|     0|              Europe|\n",
            "|                NULL|         Azerbaijan|  40.1431|   47.5769|2020-01-22|        0|     0|        0|     0|              Europe|\n",
            "|                NULL|            Bahamas|25.025885|-78.035889|2020-01-22|        0|     0|        0|     0|            Americas|\n",
            "|                NULL|            Bahrain|  26.0275|     50.55|2020-01-22|        0|     0|        0|     0|Eastern Mediterra...|\n",
            "+--------------------+-------------------+---------+----------+----------+---------+------+---------+------+--------------------+\n",
            "only showing top 20 rows\n",
            "\n"
          ]
        }
      ]
    },
    {
      "cell_type": "code",
      "source": [
        "df.printSchema()"
      ],
      "metadata": {
        "colab": {
          "base_uri": "https://localhost:8080/"
        },
        "id": "3Zxd0lAFDiLA",
        "outputId": "3e9ddb2a-eb05-4282-db9b-77691bef6e20"
      },
      "execution_count": 7,
      "outputs": [
        {
          "output_type": "stream",
          "name": "stdout",
          "text": [
            "root\n",
            " |-- Province/State: string (nullable = true)\n",
            " |-- Country/Region: string (nullable = true)\n",
            " |-- Lat: double (nullable = true)\n",
            " |-- Long: double (nullable = true)\n",
            " |-- Date: date (nullable = true)\n",
            " |-- Confirmed: integer (nullable = true)\n",
            " |-- Deaths: integer (nullable = true)\n",
            " |-- Recovered: integer (nullable = true)\n",
            " |-- Active: integer (nullable = true)\n",
            " |-- WHO Region: string (nullable = true)\n",
            "\n"
          ]
        }
      ]
    },
    {
      "cell_type": "code",
      "source": [
        "dfchina = df.filter(df[\"Country/Region\"]==\"China\")\n",
        "dfchina.show()"
      ],
      "metadata": {
        "colab": {
          "base_uri": "https://localhost:8080/"
        },
        "id": "_aeFXPD3DnI9",
        "outputId": "097ba290-e9c7-4f23-f77e-109d886dc198"
      },
      "execution_count": 8,
      "outputs": [
        {
          "output_type": "stream",
          "name": "stdout",
          "text": [
            "+--------------+--------------+------------------+--------+----------+---------+------+---------+------+---------------+\n",
            "|Province/State|Country/Region|               Lat|    Long|      Date|Confirmed|Deaths|Recovered|Active|     WHO Region|\n",
            "+--------------+--------------+------------------+--------+----------+---------+------+---------+------+---------------+\n",
            "|         Anhui|         China|           31.8257|117.2264|2020-01-22|        1|     0|        0|     1|Western Pacific|\n",
            "|       Beijing|         China|           40.1824|116.4142|2020-01-22|       14|     0|        0|    14|Western Pacific|\n",
            "|     Chongqing|         China|           30.0572| 107.874|2020-01-22|        6|     0|        0|     6|Western Pacific|\n",
            "|        Fujian|         China|           26.0789|117.9874|2020-01-22|        1|     0|        0|     1|Western Pacific|\n",
            "|         Gansu|         China|           35.7518|104.2861|2020-01-22|        0|     0|        0|     0|Western Pacific|\n",
            "|     Guangdong|         China|           23.3417|113.4244|2020-01-22|       26|     0|        0|    26|Western Pacific|\n",
            "|       Guangxi|         China|           23.8298|108.7881|2020-01-22|        2|     0|        0|     2|Western Pacific|\n",
            "|       Guizhou|         China|           26.8154|106.8748|2020-01-22|        1|     0|        0|     1|Western Pacific|\n",
            "|        Hainan|         China|           19.1959|109.7453|2020-01-22|        4|     0|        0|     4|Western Pacific|\n",
            "|         Hebei|         China|            39.549|116.1306|2020-01-22|        1|     0|        0|     1|Western Pacific|\n",
            "|  Heilongjiang|         China|47.861999999999995|127.7615|2020-01-22|        0|     0|        0|     0|Western Pacific|\n",
            "|         Henan|         China|           37.8957|114.9042|2020-01-22|        5|     0|        0|     5|Western Pacific|\n",
            "|     Hong Kong|         China|              22.3|   114.2|2020-01-22|        0|     0|        0|     0|Western Pacific|\n",
            "|         Hubei|         China|           30.9756|112.2707|2020-01-22|      444|    17|       28|   399|Western Pacific|\n",
            "|         Hunan|         China|           27.6104|111.7088|2020-01-22|        4|     0|        0|     4|Western Pacific|\n",
            "|Inner Mongolia|         China|           44.0935|113.9448|2020-01-22|        0|     0|        0|     0|Western Pacific|\n",
            "|       Jiangsu|         China|           32.9711| 119.455|2020-01-22|        1|     0|        0|     1|Western Pacific|\n",
            "|       Jiangxi|         China|            27.614|115.7221|2020-01-22|        2|     0|        0|     2|Western Pacific|\n",
            "|         Jilin|         China|           43.6661|126.1923|2020-01-22|        0|     0|        0|     0|Western Pacific|\n",
            "|      Liaoning|         China|           41.2956|122.6085|2020-01-22|        2|     0|        0|     2|Western Pacific|\n",
            "+--------------+--------------+------------------+--------+----------+---------+------+---------+------+---------------+\n",
            "only showing top 20 rows\n",
            "\n"
          ]
        }
      ]
    },
    {
      "cell_type": "code",
      "source": [
        "df1= df.filter(df.Deaths>100)\n",
        "df1.show()"
      ],
      "metadata": {
        "colab": {
          "base_uri": "https://localhost:8080/"
        },
        "id": "hv1qI3ArEAow",
        "outputId": "50b36b93-6bcc-4775-c14e-876bdc883dc8"
      },
      "execution_count": 9,
      "outputs": [
        {
          "output_type": "stream",
          "name": "stdout",
          "text": [
            "+--------------+--------------+-------+--------+----------+---------+------+---------+------+---------------+\n",
            "|Province/State|Country/Region|    Lat|    Long|      Date|Confirmed|Deaths|Recovered|Active|     WHO Region|\n",
            "+--------------+--------------+-------+--------+----------+---------+------+---------+------+---------------+\n",
            "|         Hubei|         China|30.9756|112.2707|2020-01-28|     3554|   125|       80|  3349|Western Pacific|\n",
            "|         Hubei|         China|30.9756|112.2707|2020-01-29|     3554|   125|       88|  3341|Western Pacific|\n",
            "|         Hubei|         China|30.9756|112.2707|2020-01-30|     4903|   162|       90|  4651|Western Pacific|\n",
            "|         Hubei|         China|30.9756|112.2707|2020-01-31|     5806|   204|      141|  5461|Western Pacific|\n",
            "|         Hubei|         China|30.9756|112.2707|2020-02-01|     7153|   249|      168|  6736|Western Pacific|\n",
            "|         Hubei|         China|30.9756|112.2707|2020-02-02|    11177|   350|      295| 10532|Western Pacific|\n",
            "|         Hubei|         China|30.9756|112.2707|2020-02-03|    13522|   414|      386| 12722|Western Pacific|\n",
            "|         Hubei|         China|30.9756|112.2707|2020-02-04|    16678|   479|      522| 15677|Western Pacific|\n",
            "|         Hubei|         China|30.9756|112.2707|2020-02-05|    19665|   549|      633| 18483|Western Pacific|\n",
            "|         Hubei|         China|30.9756|112.2707|2020-02-06|    22112|   618|      817| 20677|Western Pacific|\n",
            "|         Hubei|         China|30.9756|112.2707|2020-02-07|    24953|   699|     1115| 23139|Western Pacific|\n",
            "|         Hubei|         China|30.9756|112.2707|2020-02-08|    27100|   780|     1439| 24881|Western Pacific|\n",
            "|         Hubei|         China|30.9756|112.2707|2020-02-09|    29631|   871|     1795| 26965|Western Pacific|\n",
            "|         Hubei|         China|30.9756|112.2707|2020-02-10|    31728|   974|     2222| 28532|Western Pacific|\n",
            "|         Hubei|         China|30.9756|112.2707|2020-02-11|    33366|  1068|     2639| 29659|Western Pacific|\n",
            "|         Hubei|         China|30.9756|112.2707|2020-02-12|    34874|  1068|     2686| 31120|Western Pacific|\n",
            "|         Hubei|         China|30.9756|112.2707|2020-02-13|    48206|  1310|     3459| 43437|Western Pacific|\n",
            "|         Hubei|         China|30.9756|112.2707|2020-02-14|    54406|  1457|     4774| 48175|Western Pacific|\n",
            "|         Hubei|         China|30.9756|112.2707|2020-02-15|    56249|  1596|     5623| 49030|Western Pacific|\n",
            "|         Hubei|         China|30.9756|112.2707|2020-02-16|    58182|  1696|     6639| 49847|Western Pacific|\n",
            "+--------------+--------------+-------+--------+----------+---------+------+---------+------+---------------+\n",
            "only showing top 20 rows\n",
            "\n"
          ]
        }
      ]
    },
    {
      "cell_type": "code",
      "source": [
        "df2=df.groupBy(\"Country/Region\").agg(sum(\"Deaths\").alias(\"TotalDeaths\"))\n",
        "df2.show()"
      ],
      "metadata": {
        "colab": {
          "base_uri": "https://localhost:8080/"
        },
        "id": "lwehseY9EPzW",
        "outputId": "00875cd0-288e-47bd-9167-d291a4dba209"
      },
      "execution_count": 10,
      "outputs": [
        {
          "output_type": "stream",
          "name": "stdout",
          "text": [
            "+--------------+-----------+\n",
            "|Country/Region|TotalDeaths|\n",
            "+--------------+-----------+\n",
            "|          Chad|       5523|\n",
            "|      Paraguay|       1663|\n",
            "|        Russia|     619385|\n",
            "|         Yemen|      17707|\n",
            "|       Senegal|       7177|\n",
            "|    Cabo Verde|        854|\n",
            "|        Sweden|     448913|\n",
            "|        Guyana|       1346|\n",
            "|       Eritrea|          0|\n",
            "|   Philippines|     110892|\n",
            "|         Burma|        639|\n",
            "|      Djibouti|       3011|\n",
            "|      Malaysia|      12971|\n",
            "|     Singapore|       2441|\n",
            "|          Fiji|          0|\n",
            "|        Turkey|     466056|\n",
            "|        Malawi|       1640|\n",
            "|Western Sahara|         63|\n",
            "|          Iraq|     121392|\n",
            "|       Germany|     871322|\n",
            "+--------------+-----------+\n",
            "only showing top 20 rows\n",
            "\n"
          ]
        }
      ]
    },
    {
      "cell_type": "code",
      "source": [
        "df2.orderBy(df2[\"TotalDeaths\"].desc()).show()"
      ],
      "metadata": {
        "colab": {
          "base_uri": "https://localhost:8080/"
        },
        "id": "L2dWzT7gE1G-",
        "outputId": "af230bf7-4a76-4607-ebc2-37ca67337af8"
      },
      "execution_count": 11,
      "outputs": [
        {
          "output_type": "stream",
          "name": "stdout",
          "text": [
            "+--------------+-----------+\n",
            "|Country/Region|TotalDeaths|\n",
            "+--------------+-----------+\n",
            "|            US|   11011411|\n",
            "|United Kingdom|    3997775|\n",
            "|        Brazil|    3938034|\n",
            "|         Italy|    3707717|\n",
            "|        France|    3048524|\n",
            "|         Spain|    3033030|\n",
            "|        Mexico|    1728277|\n",
            "|         India|    1111831|\n",
            "|          Iran|    1024136|\n",
            "|       Belgium|     963679|\n",
            "|       Germany|     871322|\n",
            "|        Canada|     699566|\n",
            "|         China|     672413|\n",
            "|          Peru|     652113|\n",
            "|   Netherlands|     622314|\n",
            "|        Russia|     619385|\n",
            "|        Turkey|     466056|\n",
            "|        Sweden|     448913|\n",
            "|       Ecuador|     346618|\n",
            "|         Chile|     322480|\n",
            "+--------------+-----------+\n",
            "only showing top 20 rows\n",
            "\n"
          ]
        }
      ]
    },
    {
      "cell_type": "code",
      "source": [
        "df2.write.csv(\"output/summary\", header=True)"
      ],
      "metadata": {
        "id": "3cqIUXZ4FtAL"
      },
      "execution_count": 12,
      "outputs": []
    },
    {
      "cell_type": "code",
      "source": [
        "dffinal=spark.read.csv(\"output/summary\",header=True,inferSchema=True)\n",
        "dffinal.show()"
      ],
      "metadata": {
        "colab": {
          "base_uri": "https://localhost:8080/"
        },
        "id": "ic8H8M0yH8pi",
        "outputId": "136d0a2f-cc2f-4691-d5e6-29b2fc13aeb9"
      },
      "execution_count": 13,
      "outputs": [
        {
          "output_type": "stream",
          "name": "stdout",
          "text": [
            "+--------------+-----------+\n",
            "|Country/Region|TotalDeaths|\n",
            "+--------------+-----------+\n",
            "|          Chad|       5523|\n",
            "|      Paraguay|       1663|\n",
            "|        Russia|     619385|\n",
            "|         Yemen|      17707|\n",
            "|       Senegal|       7177|\n",
            "|    Cabo Verde|        854|\n",
            "|        Sweden|     448913|\n",
            "|        Guyana|       1346|\n",
            "|       Eritrea|          0|\n",
            "|   Philippines|     110892|\n",
            "|         Burma|        639|\n",
            "|      Djibouti|       3011|\n",
            "|      Malaysia|      12971|\n",
            "|     Singapore|       2441|\n",
            "|          Fiji|          0|\n",
            "|        Turkey|     466056|\n",
            "|        Malawi|       1640|\n",
            "|Western Sahara|         63|\n",
            "|          Iraq|     121392|\n",
            "|       Germany|     871322|\n",
            "+--------------+-----------+\n",
            "only showing top 20 rows\n",
            "\n"
          ]
        }
      ]
    },
    {
      "cell_type": "code",
      "source": [],
      "metadata": {
        "id": "rRDAGBsAI2Ye"
      },
      "execution_count": null,
      "outputs": []
    }
  ]
}